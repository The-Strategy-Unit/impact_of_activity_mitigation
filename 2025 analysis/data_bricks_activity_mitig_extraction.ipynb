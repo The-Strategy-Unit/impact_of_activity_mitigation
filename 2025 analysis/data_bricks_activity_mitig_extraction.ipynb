{
 "cells": [
  {
   "cell_type": "markdown",
   "metadata": {
    "application/vnd.databricks.v1+cell": {
     "cellMetadata": {},
     "inputWidgets": {},
     "nuid": "1d07ce46-8e38-4e49-bf12-295b550077ce",
     "showTitle": false,
     "tableResultSettingsMap": {},
     "title": ""
    }
   },
   "source": [
    "## Inpatient activity"
   ]
  },
  {
   "cell_type": "markdown",
   "metadata": {
    "application/vnd.databricks.v1+cell": {
     "cellMetadata": {},
     "inputWidgets": {},
     "nuid": "b0f19b64-82e2-44b8-8f56-2184719f403e",
     "showTitle": false,
     "tableResultSettingsMap": {},
     "title": ""
    }
   },
   "source": [
    "### Mitigation data"
   ]
  },
  {
   "cell_type": "markdown",
   "metadata": {
    "application/vnd.databricks.v1+cell": {
     "cellMetadata": {},
     "inputWidgets": {},
     "nuid": "3a8746e7-b391-455f-b5e8-5b2108ab0919",
     "showTitle": false,
     "tableResultSettingsMap": {},
     "title": ""
    }
   },
   "source": [
    "We have the table `nhp.raw_data.apc_mitigators` which we will use for collecting data on mitigation. However, this goes to the granularity of 92 mitigators, whilst we are concerning ourselves with three *types* of mitigation, as well as the counterfactual: re-direction and substitution (\"reSu\"), prevention (\"prev\") and de-adoption (\"deAdopt\"). There are also instances in which a specific hospital admission is in scope of more than mitigator; in this case we choose assign the admission according to a hierachy: prevention > de-adoption > re-direction and substitution; else \"none\". Finally, the mitigators have rates which we must sample from to reflect the fact that now all cases meeting the [definitions for each mitigator](https://connect.strategyunitwm.nhs.uk/nhp/project_information/modelling_methodology/activity_mitigators/inpatient_activity_mitigators.html) will actually be relevant.\n",
    "\n",
    "The below query creates a view `activity_mitigation_table` where the sampling, grouping and hierachy have been effected."
   ]
  },
  {
   "cell_type": "code",
   "execution_count": 0,
   "metadata": {
    "application/vnd.databricks.v1+cell": {
     "cellMetadata": {
      "byteLimit": 2048000,
      "implicitDf": true,
      "rowLimit": 10000
     },
     "inputWidgets": {},
     "nuid": "5c043040-b4a9-4f47-975c-d018b42add2e",
     "showTitle": false,
     "tableResultSettingsMap": {},
     "title": ""
    }
   },
   "outputs": [],
   "source": [
    "from pyspark.sql.functions import col, when, rand\n",
    "\n",
    "# Load the data from the table\n",
    "df = spark.table(\"nhp.raw_data.apc_mitigators\")\n",
    "\n",
    "# load the apc records (needed for filtering on group / pod)\n",
    "apc_pod = spark.table(\"nhp.raw_data.apc\").select(\"epikey\", \"fyear\", \"provider\", \"group\")\n",
    "\n",
    "# Load the diagnoses (as we need to filter out obesity strategies where the principal diagnosis is I12 or I22)\n",
    "diagnoses = spark.table(\"hes.silver.apc_diagnoses\").filter(col(\"diag_order\") == 1).select(\"epikey\", \"fyear\", \"diagnosis\")\n",
    "\n",
    "# Apply transformations\n",
    "df_transformed = (\n",
    "    df.withColumn(\n",
    "        \"mitigation_type\",\n",
    "        when(\n",
    "            col(\"strategy\").isin(\n",
    "                'alcohol_partially_attributable_acute', 'alcohol_partially_attributable_chronic', 'alcohol_wholly_attributable', 'falls_related_admissions',\n",
    "                'obesity_related_admissions', 'smoking'\n",
    "            ), 'prev'\n",
    "        ).when(\n",
    "            col(\"strategy\").isin(\n",
    "                'evidence_based_interventions_ent', 'evidence_based_interventions_general_surgery', 'evidence_based_interventions_gi_surgical',\n",
    "                'evidence_based_interventions_msk', 'evidence_based_interventions_urology', 'evidence_based_interventions_vascular_varicose_veins'\n",
    "            ), 'deAdopt'\n",
    "        ).when(\n",
    "            col(\"strategy\").isin(\n",
    "                'ambulatory_care_conditions_acute', 'ambulatory_care_conditions_chronic', 'ambulatory_care_conditions_vaccine_preventable',\n",
    "                'eol_care_2_days', 'eol_care_3_to_14_days', 'frail_elderly_high', 'frail_elderly_intermediate', 'intentional_self_harm',\n",
    "                'medically_unexplained_related_admissions', 'medicines_related_admissions_explicit', 'medicines_related_admissions_implicit_anti-diabetics',\n",
    "                'medicines_related_admissions_implicit_benzodiasepines', 'medicines_related_admissions_implicit_diurectics',\n",
    "                'medicines_related_admissions_implicit_nsaids', 'raid_ae', 'readmission_within_28_days', 'zero_los_no_procedure_adult',\n",
    "                'zero_los_no_procedure_child'\n",
    "            ), 'reSu'\n",
    "        ).otherwise('none')\n",
    "    ).filter(col(\"sample_rate\") >= rand())\n",
    "    # join to diagnoses in order to filter out specific diagnoses for obesity\n",
    "    .join(diagnoses, [\"epikey\", \"fyear\"], \"left\")\n",
    "    .filter(~((col(\"strategy\") == \"obesity_related_admissions\") & (col(\"diagnosis\").rlike(\"^I[12]2\"))))\n",
    "    # join to apc data to get the group/pod column for filtering out elective reSu and non-elective de-adoption\n",
    "    .join(apc_pod, [\"epikey\", \"provider\", \"fyear\"])\n",
    "    .filter(~((col(\"group\") == \"elective\") & (col(\"mitigation_type\") == \"reSu\")))\n",
    "    .filter(~((col(\"group\") == \"non-elective\") & (col(\"mitigation_type\") == \"deAdopt\")))\n",
    "    .drop(\"group\", \"diagnosis\")\n",
    ")\n",
    "\n",
    "# Create or replace the table\n",
    "df_transformed.write.mode(\"overwrite\").option(\"mergeSchema\", \"true\").saveAsTable(\"apc_mitigation_data_unranked\")"
   ]
  },
  {
   "cell_type": "code",
   "execution_count": 0,
   "metadata": {
    "application/vnd.databricks.v1+cell": {
     "cellMetadata": {
      "byteLimit": 2048000,
      "implicitDf": true,
      "rowLimit": 10000
     },
     "inputWidgets": {},
     "nuid": "84e6303e-cb3e-4729-aa0b-278c60119aa1",
     "showTitle": false,
     "tableResultSettingsMap": {},
     "title": ""
    }
   },
   "outputs": [],
   "source": [
    "from pyspark.sql.window import Window\n",
    "import pyspark.sql.functions as F\n",
    "\n",
    "\n",
    "# Load the data\n",
    "apc_mitigation_data_unranked = spark.table(\"strategyunit.default.apc_mitigation_data_unranked\")\n",
    "\n",
    "# Define the window specification\n",
    "windowSpec = Window.partitionBy(\"epikey\").orderBy(\n",
    "    F.when(F.col(\"mitigation_type\") == \"prev\", 1)\n",
    "    .when(F.col(\"mitigation_type\") == \"deAdopt\", 2)\n",
    "    .when(F.col(\"mitigation_type\") == \"reSu\", 3)\n",
    "    .otherwise(4)\n",
    ")\n",
    "\n",
    "# Add the row number column\n",
    "ranked_data = apc_mitigation_data_unranked.withColumn(\"rn\", F.row_number().over(windowSpec))\n",
    "\n",
    "# Filter the rows where rn = 1\n",
    "result = ranked_data.filter(F.col(\"rn\") == 1)\n",
    "\n",
    "# Create or replace the table\n",
    "result.write.mode(\"overwrite\").option(\"mergeSchema\", \"true\").saveAsTable(\"apc_mitigation_data_ranked\")"
   ]
  },
  {
   "cell_type": "markdown",
   "metadata": {
    "application/vnd.databricks.v1+cell": {
     "cellMetadata": {},
     "inputWidgets": {},
     "nuid": "9c836f54-1786-45ff-b083-811522f3eb52",
     "showTitle": false,
     "tableResultSettingsMap": {},
     "title": ""
    }
   },
   "source": [
    "### Note on missing mitigators\n",
    "In the query above we 30 specific strategies that have been allocated to one of the three types of mitigation. \n",
    "\n",
    "However, there are 33 inpatient activity avoidance mitigators (derived below), meaning there are three missing:\n",
    "\n",
    "- _cancelled_operations_ - this is more of an efficiency strategy\n",
    "- _virtual_wards_activity_avoidance_ari_ - this is new and still being tested\n",
    "- _virtual_wards_activity_avoidance_heart_failure_ - this is new and still being tested\n"
   ]
  },
  {
   "cell_type": "markdown",
   "metadata": {
    "application/vnd.databricks.v1+cell": {
     "cellMetadata": {},
     "inputWidgets": {},
     "nuid": "31fe3037-3075-4393-af8f-708bdf2c77b6",
     "showTitle": false,
     "tableResultSettingsMap": {},
     "title": ""
    }
   },
   "source": [
    "### ICD10 chapters\n",
    "\n",
    "One of the things we want the data by is ICD10 chapter of the principal diagnosis.\n",
    "\n",
    "There is an existing reference table `Su_data.reference.icd10_codes` but we just need to create a new copy `icd10_codes_gabriel` as the main refence table does not have the chapters correctedly tabulated."
   ]
  },
  {
   "cell_type": "code",
   "execution_count": 0,
   "metadata": {
    "application/vnd.databricks.v1+cell": {
     "cellMetadata": {
      "byteLimit": 2048000,
      "implicitDf": true,
      "rowLimit": 10000
     },
     "inputWidgets": {},
     "nuid": "707cefd9-46b5-4a85-ae94-7ddd3ca5e2de",
     "showTitle": false,
     "tableResultSettingsMap": {},
     "title": ""
    }
   },
   "outputs": [],
   "source": [
    "%sql\n",
    "CREATE OR REPLACE VIEW icd10_codes_gabriel as\n",
    "SELECT\n",
    "    *,\n",
    "    CASE \n",
    "        WHEN chapter_description = 'Certain infectious and parasitic diseases' THEN 'I'\n",
    "        WHEN chapter_description = 'Neoplasms' THEN 'II'\n",
    "        WHEN chapter_description = 'Diseases of the blood and blood-forming organs and certain disorders involving the immune mechanism' THEN 'III'\n",
    "        WHEN chapter_description = 'Endocrine, nutritional and metabolic diseases' THEN 'IV'\n",
    "        WHEN chapter_description = 'Mental and behavioural disorders' THEN 'V'\n",
    "        WHEN chapter_description = 'Diseases of the nervous system' THEN 'VI'\n",
    "        WHEN chapter_description = 'Diseases of the eye and adnexa' THEN 'VII'\n",
    "        WHEN chapter_description = 'Diseases of the ear and mastoid process' THEN 'VIII'\n",
    "        WHEN chapter_description = 'Diseases of the circulatory system' THEN 'IX'\n",
    "        WHEN chapter_description = 'Diseases of the respiratory system' THEN 'X'\n",
    "        WHEN chapter_description = 'Diseases of the digestive system' THEN 'XI'\n",
    "        WHEN chapter_description = 'Diseases of the skin and subcutaneous tissue' THEN 'XII'\n",
    "        WHEN chapter_description = 'Diseases of the musculoskeletal system and connective tissue' THEN 'XIII'\n",
    "        WHEN chapter_description = 'Diseases of the genitourinary system' THEN 'XIV'\n",
    "        WHEN chapter_description = 'Pregnancy, childbirth and the puerperium' THEN 'XV'\n",
    "        WHEN chapter_description = 'Certain conditions originating in the perinatal period' THEN 'XVI'\n",
    "        WHEN chapter_description = 'Congenital malformations, deformations and chromosomal abnormalities' THEN 'XVII'\n",
    "        WHEN chapter_description = 'Symptoms, signs and abnormal clinical and laboratory findings, not elsewhere classified' THEN 'XVIII'\n",
    "        WHEN chapter_description = 'Injury, poisoning and certain other consequences of external causes' THEN 'XIX'\n",
    "        WHEN chapter_description = 'External causes of morbidity and mortality' THEN 'XX'\n",
    "        WHEN chapter_description = 'Factors influencing health status and contact with health services' THEN 'XXI'\n",
    "        WHEN chapter_description = 'Codes for special purposes' THEN 'XXII'\n",
    "    END AS chapter_number\n",
    "FROM strategyunit.reference.icd10_codes "
   ]
  },
  {
   "cell_type": "markdown",
   "metadata": {
    "application/vnd.databricks.v1+cell": {
     "cellMetadata": {},
     "inputWidgets": {},
     "nuid": "6dfb3a7c-9d8d-42cb-b07d-d40b550065d3",
     "showTitle": false,
     "tableResultSettingsMap": {},
     "title": ""
    }
   },
   "source": [
    "### Extracting data\n",
    "\n",
    "The aim is to extract counts of activity (spells) by the following groups:\n",
    "\n",
    "-   financial year\n",
    "-   admission type / pod\n",
    "-   age\n",
    "-   sex\n",
    "-   region\n",
    "-   ICD-10 chapter\n",
    "-   deprivation quintile\n",
    "-   mitigation type"
   ]
  },
  {
   "cell_type": "code",
   "execution_count": 0,
   "metadata": {
    "application/vnd.databricks.v1+cell": {
     "cellMetadata": {
      "byteLimit": 2048000,
      "rowLimit": 10000
     },
     "inputWidgets": {},
     "nuid": "11024e75-d6e8-4faa-94d5-af0a817b15dd",
     "showTitle": false,
     "tableResultSettingsMap": {},
     "title": ""
    }
   },
   "outputs": [],
   "source": [
    "from pyspark.sql import functions as F\n",
    "\n",
    "apc = spark.table(\"nhp.raw_data.apc\")\n",
    "apc_mitigation_data = spark.table(\"apc_mitigation_data_ranked\")\n",
    "icd_10_chapter = spark.table(\"icd10_codes_gabriel\")\n",
    "\n",
    "apc_results = (\n",
    "    apc\n",
    "    .filter((F.col(\"apc.fyear\") <= 201920) & (F.col(\"apc.fyear\") >= 201112))\n",
    "    .filter(~(F.col(\"group\") == \"maternity\"))\n",
    "    .join(apc_mitigation_data, \"epikey\", \"left\")\n",
    "    .join(icd_10_chapter, apc[\"primary_diagnosis\"] == icd_10_chapter[\"icd10\"], \"left\")\n",
    "    .withColumn(\"mitigation_type\", F.coalesce(F.col(\"mitigation_type\"), F.lit(\"none\")))\n",
    "    .groupBy(F.col(\"apc.fyear\"), apc[\"group\"].alias(\"pod\"), \"age\", \"resgor_ons\", \"sex\", \"chapter_number\", \"imd_quintile\", \"mitigation_type\")\n",
    "    .agg(F.count(\"epikey\").alias(\"activity\"))\n",
    "    .dropna(subset=[\"fyear\", \"age\", \"sex\", \"imd_quintile\", \"resgor_ons\"])\n",
    ")\n",
    "\n",
    "display(apc_results)"
   ]
  },
  {
   "cell_type": "markdown",
   "metadata": {
    "application/vnd.databricks.v1+cell": {
     "cellMetadata": {},
     "inputWidgets": {},
     "nuid": "8c549350-7fcb-42f9-b2a5-514db4dcd725",
     "showTitle": false,
     "tableResultSettingsMap": {},
     "title": ""
    }
   },
   "source": [
    "## Outpatients\n",
    "\n",
    "Consulting the lookup there are 16 outpatients. Each of these will be 4 variants, so in reality it's 4 OPA groupings.\n",
    "\n",
    "These are the ones in Stevem's lookup:\n",
    "- consultant_to_consultant_reduction_adult_non-surgical\n",
    "- consultant_to_consultant_reduction_adult_surgical\n",
    "- consultant_to_consultant_reduction_child_non-surgical\n",
    "- consultant_to_consultant_reduction_child_surgical\n",
    "- followup_reduction_adult_non-surgical\n",
    "- followup_reduction_adult_surgical\n",
    "- followup_reduction_child_non-surgical\n",
    "- followup_reduction_child_surgical\n",
    "\n",
    "\n",
    "We're off by one set of four:\n",
    "- gp_referred_first_attendance_reduction_adult_non-surgical\n",
    "- gp_referred_first_attendance_reduction_adult_surgical\n",
    "- gp_referred_first_attendance_reduction_child_non-surgical\n",
    "- gp_referred_first_attendance_reduction_child_surgical\n",
    "\n",
    "There are the following four but we consider these to be out of scope as they are efficiency strategies:\n",
    "- convert_to_tele_adult_non-surgical\n",
    "- convert_to_tele_adult_surgical\n",
    "- convert_to_tele_child_non-surgical\n",
    "- convert_to_tele_child_surgical\n",
    "\n",
    "\n",
    "\n"
   ]
  },
  {
   "cell_type": "markdown",
   "metadata": {
    "application/vnd.databricks.v1+cell": {
     "cellMetadata": {},
     "inputWidgets": {},
     "nuid": "f351a3f1-a67c-4f10-874a-4c2fe3e9999b",
     "showTitle": false,
     "tableResultSettingsMap": {},
     "title": ""
    }
   },
   "source": [
    "### Extraction\n",
    "\n",
    "We create a table `mitigator_flags` that removes any outpatient strategies in the Convert to Tele-attendance group and also to remove those which are relating to maternity, since these do not exist in the mitigator lookup.\n",
    "\n",
    "This is  breaking down due to the large amount of data in the outpatients table so we split the data into three extracts: one for 2011-12 to 2014-15, another for 2015-16 to 2018-19, and a final one for 2019-20. "
   ]
  },
  {
   "cell_type": "code",
   "execution_count": 0,
   "metadata": {
    "application/vnd.databricks.v1+cell": {
     "cellMetadata": {
      "byteLimit": 2048000,
      "rowLimit": 10000
     },
     "inputWidgets": {},
     "nuid": "fc3bf2bd-8382-4e39-b380-0dd3e18e314c",
     "showTitle": false,
     "tableResultSettingsMap": {},
     "title": ""
    }
   },
   "outputs": [],
   "source": [
    "from pyspark.sql import functions as F\n",
    "\n",
    "# Load the opa_mitigators table\n",
    "opa_mitigators = spark.table(\"nhp.raw_data.opa_mitigators\")\n",
    "\n",
    "# Create the mitigator_flags DataFrame\n",
    "mitigator_flags = (\n",
    "    opa_mitigators\n",
    "    .filter(\n",
    "        (~opa_mitigators.strategy.like(\"convert_to_tele%\")) & \n",
    "        (~opa_mitigators.strategy.like(\"%maternity\")) \n",
    "    )\n",
    "    .groupBy(\"attendkey\", \"provider\", \"fyear\")\n",
    "    .agg(\n",
    "        F.max(F.when(opa_mitigators.attendkey.isNotNull(), 1).otherwise(0)).alias(\"has_mitigation\")\n",
    "    )\n",
    ")\n",
    "\n",
    "# Load the opa table\n",
    "opa = spark.table(\"nhp.raw_data.opa\")\n",
    "\n",
    "# Join opa with mitigator_flags\n",
    "result = opa.join(mitigator_flags, on=[\"attendkey\", \"provider\", \"fyear\"], how=\"left\")\n",
    "\n",
    "# Add the mitigation_type column\n",
    "result = result.withColumn(\n",
    "    \"mitigation_type\",\n",
    "    F.when(result.has_mitigation == 1, \"deAdopt\").otherwise(\"none\")\n",
    ")\n",
    "\n",
    "# Remove prefixes \"adult_\" or \"child_\" from the type column\n",
    "result = result.withColumn(\n",
    "    \"type\",\n",
    "    F.regexp_replace(result[\"type\"], \"^(adult_|child_)\", \"\")\n",
    ")\n",
    "\n",
    "# drop NA in the fields being used for joining to population data\n",
    "result = result.dropna(subset=[\"fyear\", \"age\", \"sex\", \"imd_quintile\", \"resgor_ons\"])\n",
    "\n",
    "# Group by the required columns and count distinct attendkey\n",
    "opa_data = result.filter((result.fyear >= 201112) & (result.fyear <= 201920)).groupBy(\n",
    "    F.lit(\"opa\").alias(\"pod\"),\n",
    "    \"fyear\",\n",
    "    \"age\",\n",
    "    \"sex\",\n",
    "    \"type\",\n",
    "    \"imd_quintile\",\n",
    "    \"resgor_ons\",\n",
    "    \"mitigation_type\"\n",
    ").agg(\n",
    "    F.countDistinct(\"attendkey\").alias(\"activity\")\n",
    ")\n",
    "\n",
    "# Create or replace a view instead of saving as a table\n",
    "opa_data.createOrReplaceTempView(\"opa_mitig_data\")"
   ]
  },
  {
   "cell_type": "code",
   "execution_count": 0,
   "metadata": {
    "application/vnd.databricks.v1+cell": {
     "cellMetadata": {
      "byteLimit": 2048000,
      "implicitDf": true,
      "rowLimit": 10000
     },
     "collapsed": true,
     "inputWidgets": {},
     "nuid": "0511a671-5d1e-4c8f-a468-cf5950790332",
     "showTitle": false,
     "tableResultSettingsMap": {
      "0": {
       "dataGridStateBlob": null,
       "filterBlob": "{\"version\":1,\"filterGroups\":[{\"enabled\":true,\"filterGroupId\":\"fg_2f3d51b4\",\"op\":\"OR\",\"filters\":[{\"filterId\":\"f_fc4a7e3d\",\"enabled\":true,\"columnId\":\"type\",\"dataType\":\"string\",\"filterType\":\"oneof\"}],\"local\":false,\"updatedAt\":1751975947308}],\"syncTimestamp\":1751975947309}",
       "queryPlanFiltersBlob": "[]",
       "tableResultIndex": 0
      }
     },
     "title": ""
    }
   },
   "outputs": [],
   "source": [
    "%sql\n",
    "select * from opa_mitig_data where fyear between 201112 and 201415;"
   ]
  },
  {
   "cell_type": "code",
   "execution_count": 0,
   "metadata": {
    "application/vnd.databricks.v1+cell": {
     "cellMetadata": {
      "byteLimit": 2048000,
      "implicitDf": true,
      "rowLimit": 10000
     },
     "collapsed": true,
     "inputWidgets": {},
     "nuid": "aa827a3d-a474-4f16-bcb6-c8e299f66cd4",
     "showTitle": false,
     "tableResultSettingsMap": {},
     "title": ""
    }
   },
   "outputs": [],
   "source": [
    "%sql\n",
    "select * from opa_mitig_data where fyear between 201516 and 201819;"
   ]
  },
  {
   "cell_type": "code",
   "execution_count": 0,
   "metadata": {
    "application/vnd.databricks.v1+cell": {
     "cellMetadata": {},
     "inputWidgets": {},
     "nuid": "548750b6-f585-432d-aa7e-762801072e72",
     "showTitle": false,
     "tableResultSettingsMap": {},
     "title": ""
    }
   },
   "outputs": [],
   "source": [
    "%sql\n",
    "select * from opa_mitig_data where fyear = 201920;"
   ]
  },
  {
   "cell_type": "markdown",
   "metadata": {
    "application/vnd.databricks.v1+cell": {
     "cellMetadata": {},
     "inputWidgets": {},
     "nuid": "7f9f8562-695a-40e9-9fd7-0a175798f212",
     "showTitle": false,
     "tableResultSettingsMap": {},
     "title": ""
    }
   },
   "source": [
    "## A&E activity"
   ]
  },
  {
   "cell_type": "markdown",
   "metadata": {
    "application/vnd.databricks.v1+cell": {
     "cellMetadata": {},
     "inputWidgets": {},
     "nuid": "c7fba5c5-2932-4c5f-b62b-97de74fda514",
     "showTitle": false,
     "tableResultSettingsMap": {},
     "title": ""
    }
   },
   "source": [
    "### Categorising the mitigators for ED \n",
    "\n",
    "In the below chunk we create a temporary view which \n",
    "\n",
    "1. populates the region variable in 201920 using the region lookup on the `resladst_ons` variable (given the existing `resgor_ons` variable is full of NAs) and\n",
    "2. marks a row as \"reSu\" if it meets any one of the four conditions for this (frequent attenders, left before treatment, low cost referred or discharged, discharged no treatment)\n",
    "3. removes any NAs on the joining columns"
   ]
  },
  {
   "cell_type": "code",
   "execution_count": 0,
   "metadata": {
    "application/vnd.databricks.v1+cell": {
     "cellMetadata": {
      "byteLimit": 2048000,
      "implicitDf": true,
      "rowLimit": 10000
     },
     "inputWidgets": {},
     "nuid": "eb5c2c52-4616-47f4-90b1-dda5b58f9190",
     "showTitle": false,
     "tableResultSettingsMap": {},
     "title": ""
    }
   },
   "outputs": [],
   "source": [
    "ecds_data = spark.table(\"nhp.raw_data.ecds\")\n",
    "lookup = spark.table(\"strategyunit.default.lad_19_rgn_19_en_lu_948748_b_0_eaa_54_fe_888_a_604_b_126_f_5_e_672_4818463568216355194\").select(\"LAD19CD\", \"RGN19CD\")\n",
    "\n",
    "# Filter for aedepttype == \"01\" and fyear between 201112 and 201920\n",
    "ecds_filtered = ecds_data.filter(\n",
    "    (F.col(\"aedepttype\") == \"01\") & \n",
    "    (F.col(\"fyear\").between(201112, 201920))\n",
    ")\n",
    "\n",
    "# Overwrite resgor_ons and drop LAD19CD and RGN19CD columns\n",
    "ecds_mitig_view = ecds_filtered.join(lookup, ecds_filtered.resladst_ons == lookup.LAD19CD, \"left\").withColumn(\n",
    "    \"resgor_ons\",\n",
    "    F.when(F.col(\"fyear\") < 201920, F.col(\"resgor_ons\")).otherwise(F.col(\"RGN19CD\"))\n",
    ").drop(\"LAD19CD\", \"RGN19CD\")\n",
    "\n",
    "ecds_mitig_view = ecds_mitig_view.withColumn(\n",
    "    \"mitigation_type\",\n",
    "    F.when(\n",
    "        (F.col(\"is_frequent_attender\") == 1) |\n",
    "        (F.col(\"is_left_before_treatment\") == 1) |\n",
    "        (F.col(\"is_low_cost_referred_or_discharged\") == 1) |\n",
    "        (F.col(\"is_discharged_no_treatment\") == 1),\n",
    "        \"reSu\"\n",
    "    ).otherwise(\"none\")\n",
    ").dropna(subset=[\"fyear\", \"age\", \"sex\", \"imd_quintile\", \"resgor_ons\"])\n",
    "\n",
    "ecds_mitig_view.createOrReplaceTempView(\"ecds_mitig_view\")"
   ]
  },
  {
   "cell_type": "markdown",
   "metadata": {
    "application/vnd.databricks.v1+cell": {
     "cellMetadata": {},
     "inputWidgets": {},
     "nuid": "e95309a8-38b5-4eb2-a22f-32c3674be50c",
     "showTitle": false,
     "tableResultSettingsMap": {},
     "title": ""
    }
   },
   "source": [
    "### Extracting the ED data"
   ]
  },
  {
   "cell_type": "markdown",
   "metadata": {
    "application/vnd.databricks.v1+cell": {
     "cellMetadata": {},
     "inputWidgets": {},
     "nuid": "b677f1d4-973b-41fc-bf9d-781f52382576",
     "showTitle": false,
     "tableResultSettingsMap": {},
     "title": ""
    }
   },
   "source": [
    "Now we can simply extract the data"
   ]
  },
  {
   "cell_type": "code",
   "execution_count": 0,
   "metadata": {
    "application/vnd.databricks.v1+cell": {
     "cellMetadata": {
      "byteLimit": 2048000,
      "rowLimit": 10000
     },
     "inputWidgets": {},
     "nuid": "b3383710-bc96-4c5c-8b1c-5b1f81fb4e86",
     "showTitle": false,
     "tableResultSettingsMap": {},
     "title": ""
    },
    "jupyter": {
     "outputs_hidden": true
    }
   },
   "outputs": [],
   "source": [
    "aae_mitig_data = ecds_mitig_view.groupBy(\n",
    "    F.lit(\"aae\").alias(\"pod\"),\n",
    "    \"fyear\",\n",
    "    \"age\",\n",
    "    \"sex\",\n",
    "    \"group\",\n",
    "    \"imd_quintile\",\n",
    "    \"resgor_ons\",\n",
    "    \"mitigation_type\"\n",
    ").agg(\n",
    "    F.count(\"key\").alias(\"activity\")\n",
    ")\n"
   ]
  },
  {
   "cell_type": "code",
   "execution_count": 0,
   "metadata": {
    "application/vnd.databricks.v1+cell": {
     "cellMetadata": {
      "byteLimit": 2048000,
      "implicitDf": true,
      "rowLimit": 10000
     },
     "inputWidgets": {},
     "nuid": "9e2ef021-c715-4ba4-a774-a35d13a5413a",
     "showTitle": false,
     "tableResultSettingsMap": {},
     "title": ""
    }
   },
   "outputs": [],
   "source": [
    "aae_mitig_data.display()"
   ]
  },
  {
   "cell_type": "markdown",
   "metadata": {
    "application/vnd.databricks.v1+cell": {
     "cellMetadata": {},
     "inputWidgets": {},
     "nuid": "a67b044f-eff8-46ee-8982-254bc5657b52",
     "showTitle": false,
     "tableResultSettingsMap": {},
     "title": ""
    }
   },
   "source": [
    "## Table showing strategies in base year and final year by pod"
   ]
  },
  {
   "cell_type": "markdown",
   "metadata": {
    "application/vnd.databricks.v1+cell": {
     "cellMetadata": {},
     "inputWidgets": {},
     "nuid": "2ccca7f3-799f-465a-ba93-275bb39fe439",
     "showTitle": false,
     "tableResultSettingsMap": {},
     "title": ""
    }
   },
   "source": [
    "We want a table which presents the activity in the baseline of 2011/12 and the final year 2019/20 cut by activity subset. Activity subsets are a slight aggregation of the strategies in the mitigation table here -- for example, \"alcohol_partially_attributable_acute\", \"alcohol_partially_attributable_chronic\", \"alcohol_wholly_attributable\" are grouped together under \"Alcohol Related Admissions\". \n",
    "\n",
    "For admitted patient care, this will represent the data *before* the individual admissions are assigned to only one mitigation type (i.e. a many:1 relationship rather than many:many), and *after* the sampling of attributable fractions is conducted (i.e. not every single alcohol partial admission is expected to be relevant).\n",
    "\n",
    "For opa and aae, there is no issue with assigning a specific mitigation type or sampling. We simply count the specific strategies.\n",
    "\n",
    "For all, we include subtotals for non-mitigatable and mitigatable. These two will sum to the total activity. The breakdown of mitigatable activity in activity subsets is *not* expected to equal the subtotal given that specific admissions / attendances may be in scope of more than one strategy / activity subset.\n"
   ]
  },
  {
   "cell_type": "markdown",
   "metadata": {
    "application/vnd.databricks.v1+cell": {
     "cellMetadata": {},
     "inputWidgets": {},
     "nuid": "b37bd5e6-f964-49da-9e8a-b3d67d7ca3e2",
     "showTitle": false,
     "tableResultSettingsMap": {},
     "title": ""
    }
   },
   "source": [
    "### Conversion to activity subset\n",
    "\n",
    "We must do this aggregation in Data Bricks as, at least for inpatient data, there are episodes which appear in more than one strategy under the same subset. We can see this in the below table which shows individual spells appearing in more than one of the strategies under \"Alcohol Related Admissions\"."
   ]
  },
  {
   "cell_type": "code",
   "execution_count": 0,
   "metadata": {
    "application/vnd.databricks.v1+cell": {
     "cellMetadata": {
      "byteLimit": 2048000,
      "rowLimit": 10000
     },
     "inputWidgets": {},
     "nuid": "efd38dbc-de80-4c9b-b131-4b4e630584b7",
     "showTitle": false,
     "tableResultSettingsMap": {},
     "title": ""
    }
   },
   "outputs": [],
   "source": [
    "from pyspark.sql.functions import count, col\n",
    "\n",
    "# Load the table into a DataFrame\n",
    "apc_mitigators_df = spark.table(\"apc_mitigation_data_ranked\")\n",
    "\n",
    "# Filter the DataFrame for the specified strategies\n",
    "filtered_df = apc_mitigators_df.filter(\n",
    "    apc_mitigators_df.strategy.isin(\n",
    "        \"alcohol_wholly_attributable\", \n",
    "        \"alcohol_partially_attributable_acute\", \n",
    "        \"alcohol_partially_attributable_chronic\"\n",
    "    )\n",
    ")\n",
    "\n",
    "# Filter for epikeys that appear more than once\n",
    "epikey_counts = filtered_df.groupBy(\"epikey\").agg(count(\"*\").alias(\"count\"))\n",
    "repeated_epikeys = epikey_counts.filter(col(\"count\") > 1).select(\"epikey\")\n",
    "\n",
    "filtered_df = filtered_df.join(repeated_epikeys, on=\"epikey\", how=\"inner\")\n",
    "\n",
    "filtered_df.display()"
   ]
  },
  {
   "cell_type": "markdown",
   "metadata": {
    "application/vnd.databricks.v1+cell": {
     "cellMetadata": {},
     "inputWidgets": {},
     "nuid": "8e4f586c-1a13-4ee3-b59a-2fcae9379fd1",
     "showTitle": false,
     "tableResultSettingsMap": {},
     "title": ""
    }
   },
   "source": [
    "### Extraction of data"
   ]
  },
  {
   "cell_type": "code",
   "execution_count": 0,
   "metadata": {
    "application/vnd.databricks.v1+cell": {
     "cellMetadata": {
      "byteLimit": 2048000,
      "implicitDf": true,
      "rowLimit": 10000
     },
     "inputWidgets": {},
     "nuid": "bc44be50-582a-448e-9557-a49b46b36764",
     "showTitle": false,
     "tableResultSettingsMap": {
      "0": {
       "dataGridStateBlob": null,
       "filterBlob": "{\"version\":1,\"filterGroups\":[],\"syncTimestamp\":1752060010877}",
       "queryPlanFiltersBlob": "[]",
       "tableResultIndex": 0
      }
     },
     "title": ""
    }
   },
   "outputs": [],
   "source": [
    "%python\n",
    "from pyspark.sql.functions import col, when, count, countDistinct, lit\n",
    "\n",
    "## Load tables\n",
    "apc = spark.read.table(\"nhp.raw_data.apc\")\n",
    "apc_mitigation_data_unranked = spark.read.table(\"apc_mitigation_data_unranked\")\n",
    "opa = spark.read.table(\"nhp.raw_data.opa\")\n",
    "opa_mitigators = spark.read.table(\"nhp.raw_data.opa_mitigators\")\n",
    "ecds = spark.read.table(\"nhp.raw_data.ecds\")\n",
    "aae_mitigators_data = spark.read.table(\"aae_mitigators_data\")\n",
    "activity_subset_lookup = spark.read.table(\"strategyunit.default.activity_subset_lookup\")\n",
    "\n",
    "# Join with activity subset lookup\n",
    "apc_subset_data = apc_mitigation_data_unranked.join(activity_subset_lookup, on=\"strategy\", how=\"inner\")\n",
    "opa_subset_data = opa_mitigators.join(activity_subset_lookup, on=\"strategy\", how=\"inner\")\n",
    "aae_subset_data = aae_mitigators_data.join(activity_subset_lookup, on=\"strategy\", how=\"inner\")\n",
    "\n",
    "# apc\n",
    "apc_subset_table = apc.join(\n",
    "    apc_subset_data, \n",
    "    [apc.epikey == apc_subset_data.epikey, apc.fyear == apc_subset_data.fyear], \n",
    "    \"left\"\n",
    ").dropna(\n",
    "    subset=[\"apc.fyear\", \"age\", \"sex\", \"imd_quintile\", \"resgor_ons\"]\n",
    ").filter(\n",
    "    apc.fyear.isin(201112, 201920)\n",
    ").groupBy(\n",
    "    apc.fyear,\n",
    "    apc.group.alias(\"pod\"),\n",
    "    when(apc_subset_data.mitigation_type.isNull(), 'none')\n",
    "    .otherwise(apc_subset_data.mitigation_type).alias(\"mitigation_type\"),\n",
    "    when(apc_subset_data.mitigation_type.isNull(), 'none')\n",
    "    .otherwise(apc_subset_data.activity_subset).alias(\"activity_subset\")\n",
    ").agg(\n",
    "    count(apc.epikey).alias(\"activity\")\n",
    ")\n",
    "\n",
    "\n",
    "## opa\n",
    "opa_subset_table = opa.join(\n",
    "    opa_subset_data,\n",
    "    (opa.attendkey == opa_subset_data.attendkey) & \n",
    "    (opa.provider == opa_subset_data.provider) & \n",
    "    (opa.fyear == opa_subset_data.fyear),\n",
    "    \"left\"\n",
    ").dropna(\n",
    "    subset=[\"opa.fyear\", \"age\", \"sex\", \"imd_quintile\", \"resgor_ons\"]\n",
    ").filter(\n",
    "    opa.fyear.isin(201112, 201920)\n",
    ").withColumn(\n",
    "    \"pod\", lit(\"opa\")\n",
    ").groupBy(\n",
    "    opa.fyear,\n",
    "    col(\"pod\"),\n",
    "    when(opa_subset_data.strategy.isNull(), 'none')\n",
    "    .otherwise('deAdopt').alias(\"mitigation_type\"),\n",
    "    when(opa_subset_data.activity_subset.isNull(), 'none')\n",
    "    .otherwise(opa_subset_data.activity_subset).alias(\"activity_subset\")\n",
    ").agg(\n",
    "    count(opa.attendkey).alias(\"activity\")\n",
    ")\n",
    "\n",
    "## aae\n",
    "# Filter and label subsets\n",
    "frequent_attenders = ecds_mitig_view.filter(col(\"is_frequent_attender\") == 1).select(\n",
    "    \"key\", lit(\"A&E Frequent Attenders\").alias(\"activity_subset\")\n",
    ")\n",
    "\n",
    "minimal_clinical_input = ecds_mitig_view.filter(\n",
    "    (col(\"is_discharged_no_treatment\") == 1) | \n",
    "    (col(\"is_low_cost_referred_or_discharged\") == 1)\n",
    ").select(\n",
    "    \"key\", lit(\"A&E Attendances requiring minimal clinical input\").alias(\"activity_subset\")\n",
    ")\n",
    "\n",
    "left_before_treatment = ecds_mitig_view.filter(col(\"is_left_before_treatment\") == 1).select(\n",
    "    \"key\", lit(\"A&E Patients Left Before Being Treated\").alias(\"activity_subset\")\n",
    ")\n",
    "\n",
    "# Union all subsets\n",
    "aae_mitig_key_lookup = frequent_attenders.unionByName(minimal_clinical_input).unionByName(left_before_treatment)\n",
    "\n",
    "# Join back to full data and aggregate\n",
    "aae_subset_table = (\n",
    "    ecds_mitig_view.join(aae_mitig_key_lookup, \"key\", \"left\")\n",
    "    .filter(col(\"fyear\").isin(201112, 201920))\n",
    "    .withColumn(\"pod\", lit(\"aae\"))\n",
    "    .groupBy(\n",
    "        col(\"fyear\"),\n",
    "        col(\"pod\"),\n",
    "        when(col(\"activity_subset\").isNull(), \"none\")\n",
    "            .otherwise(\"reSu\").alias(\"mitigation_type\"),\n",
    "        when(col(\"activity_subset\").isNull(), \"none\")\n",
    "            .otherwise(col(\"activity_subset\")).alias(\"activity_subset\")\n",
    "    )\n",
    "    .agg(count(\"key\").alias(\"activity\"))\n",
    ")\n",
    "\n",
    "# Union all parts\n",
    "result = apc_subset_table.unionByName(opa_subset_table).unionByName(aae_subset_table)\n",
    "result.display()"
   ]
  },
  {
   "cell_type": "markdown",
   "metadata": {
    "application/vnd.databricks.v1+cell": {
     "cellMetadata": {},
     "inputWidgets": {},
     "nuid": "652a6924-1699-4e69-b8c9-072ae72bfb11",
     "showTitle": false,
     "tableResultSettingsMap": {},
     "title": ""
    }
   },
   "source": [
    "## Previous SQL queries on Strategy Unit Server\n",
    "\n",
    "We have the following three scripts for categorising strategies from the previous analysis\n",
    "\n"
   ]
  },
  {
   "cell_type": "markdown",
   "metadata": {
    "application/vnd.databricks.v1+cell": {
     "cellMetadata": {},
     "inputWidgets": {},
     "nuid": "bc4f6756-dc53-403c-b9e8-e3cf79430c18",
     "showTitle": false,
     "tableResultSettingsMap": {},
     "title": ""
    }
   },
   "source": [
    "### in-patient prevention\n",
    "\n",
    "```sql\n",
    "use StrategicWorking\n",
    "\n",
    "--drop table dbo.sw_ip_mitigatable_prevention\n",
    "\n",
    "\n",
    "select EPIKEY, fyear\n",
    "\n",
    "into dbo.sw_ip_mitigatable_prevention\n",
    "\n",
    "from [HESData].[nhp_strategies].[ip_alcohol_partially_attributable] \n",
    "where fraction >= RAND(CHECKSUM(NewId()))\n",
    "\n",
    "union\n",
    "\n",
    "\n",
    "select EPIKEY, fyear\n",
    "from [HESData].[nhp_strategies].[ip_alcohol_wholly_attributable]\n",
    "where fraction >= RAND(CHECKSUM(NewId()))\n",
    "\n",
    "\n",
    "union\n",
    "\n",
    "\n",
    "select EPIKEY, fyear\n",
    "from [HESData].[nhp_strategies].[ip_falls_related_admissions]\n",
    "where fraction >= RAND(CHECKSUM(NewId()))\n",
    "\n",
    "union\n",
    "\n",
    "\n",
    "select EPIKEY, fyear\n",
    "from [HESData].[nhp_strategies].[ip_obesity_related_admissions]\n",
    "where fraction >= RAND(CHECKSUM(NewId()))\n",
    "\n",
    "union\n",
    "\n",
    "\n",
    "select EPIKEY, fyear\n",
    "from [HESData].[nhp_strategies].[ip_smoking]\n",
    "where fraction >= RAND(CHECKSUM(NewId()))\n",
    "\n",
    "```"
   ]
  },
  {
   "cell_type": "markdown",
   "metadata": {
    "application/vnd.databricks.v1+cell": {
     "cellMetadata": {},
     "inputWidgets": {},
     "nuid": "6afb3038-7cd3-4d75-a6fe-cbf6ea07692b",
     "showTitle": false,
     "tableResultSettingsMap": {},
     "title": ""
    }
   },
   "source": [
    "### in-patient re-direction and substitution\n",
    "\n",
    "```sql\n",
    "use StrategicWorking\n",
    "\n",
    "--drop table dbo.sw_ip_mitigatable_redirect_substitute\n",
    "\n",
    "\n",
    "select EPIKEY, fyear\n",
    "\n",
    "into dbo.sw_ip_mitigatable_redirect_substitute\n",
    "\n",
    "from [HESData].[nhp_strategies].[ip_ambulatory_care_conditions_acute]\n",
    "where fraction >= RAND(CHECKSUM(NewId()))\n",
    "\n",
    "union\n",
    "\n",
    "\n",
    "select EPIKEY, fyear\n",
    "from [HESData].[nhp_strategies].[ip_ambulatory_care_conditions_chronic]\n",
    "where fraction >= RAND(CHECKSUM(NewId()))\n",
    "\n",
    "\n",
    "union\n",
    "\n",
    "\n",
    "select EPIKEY, fyear\n",
    "from [HESData].[nhp_strategies].[ip_ambulatory_care_conditions_vaccine_preventable]\n",
    "where fraction >= RAND(CHECKSUM(NewId()))\n",
    "\n",
    "union\n",
    "\n",
    "\n",
    "select EPIKEY, fyear\n",
    "from [HESData].[nhp_strategies].[ip_eol_care]\n",
    "where fraction >= RAND(CHECKSUM(NewId()))\n",
    "\n",
    "union\n",
    "\n",
    "\n",
    "select EPIKEY, fyear\n",
    "from [HESData].[nhp_strategies].[ip_frail_elderly]\n",
    "where fraction >= RAND(CHECKSUM(NewId()))\n",
    "\n",
    "union\n",
    "\n",
    "\n",
    "select EPIKEY, fyear\n",
    "from [HESData].[nhp_strategies].[ip_intentional_self_harm]\n",
    "where fraction >= RAND(CHECKSUM(NewId()))\n",
    "\n",
    "union\n",
    "\n",
    "\n",
    "select EPIKEY, fyear\n",
    "from [HESData].[nhp_strategies].[ip_medically_unexplained_related_admissions]\n",
    "where fraction >= RAND(CHECKSUM(NewId()))\n",
    "\n",
    "\n",
    "union\n",
    "\n",
    "\n",
    "select EPIKEY, fyear\n",
    "from [HESData].[nhp_strategies].[ip_medicines_related_admissions_explicit]\n",
    "where fraction >= RAND(CHECKSUM(NewId()))\n",
    "\n",
    "union\n",
    "\n",
    "\n",
    "select EPIKEY, fyear\n",
    "from [HESData].[nhp_strategies].[ip_medicines_related_admissions_implicit_anti_diabetics]\n",
    "where fraction >= RAND(CHECKSUM(NewId()))\n",
    "\n",
    "union\n",
    "\n",
    "\n",
    "select EPIKEY, fyear\n",
    "from [HESData].[nhp_strategies].[ip_medicines_related_admissions_implicit_benzodiasepines]\n",
    "where fraction >= RAND(CHECKSUM(NewId()))\n",
    "\n",
    "union\n",
    "\n",
    "\n",
    "select EPIKEY, fyear\n",
    "from [HESData].[nhp_strategies].[ip_medicines_related_admissions_implicit_diurectics]\n",
    "where fraction >= RAND(CHECKSUM(NewId()))\n",
    "\n",
    "\n",
    "union\n",
    "\n",
    "\n",
    "select EPIKEY, fyear\n",
    "from [HESData].[nhp_strategies].[ip_medicines_related_admissions_implicit_nsaids]\n",
    "where fraction >= RAND(CHECKSUM(NewId()))\n",
    "\n",
    "\n",
    "union\n",
    "\n",
    "\n",
    "select EPIKEY, fyear\n",
    "from [HESData].[nhp_strategies].[ip_raid_ae]\n",
    "where fraction >= RAND(CHECKSUM(NewId()))\n",
    "\n",
    "union\n",
    "\n",
    "\n",
    "select EPIKEY, fyear\n",
    "from [HESData].[nhp_strategies].[ip_readmission_within_28_days]\n",
    "where fraction >= RAND(CHECKSUM(NewId()))\n",
    "\n",
    "union\n",
    "\n",
    "\n",
    "select EPIKEY, fyear\n",
    "from [HESData].[nhp_strategies].[ip_zero_los_no_procedure]\n",
    "where fraction >= RAND(CHECKSUM(NewId()))\n",
    "```\n",
    "\n"
   ]
  },
  {
   "cell_type": "markdown",
   "metadata": {
    "application/vnd.databricks.v1+cell": {
     "cellMetadata": {},
     "inputWidgets": {},
     "nuid": "df4bb3b7-7795-482c-be8d-7b74ef3e7706",
     "showTitle": false,
     "tableResultSettingsMap": {},
     "title": ""
    }
   },
   "source": [
    "### in-patient de-adoption\n",
    "\n",
    "```sql\n",
    "use StrategicWorking\n",
    "\n",
    "--drop table dbo.sw_ip_mitigatable_rationing\n",
    "\n",
    "\n",
    "select EPIKEY, fyear\n",
    "\n",
    "into dbo.sw_ip_mitigatable_rationing\n",
    "\n",
    "from [HESData].[nhp_strategies].[ip_evidence_based_interventions_ent]\n",
    "where fraction >= RAND(CHECKSUM(NewId()))\n",
    "\n",
    "union\n",
    "\n",
    "\n",
    "select EPIKEY, fyear\n",
    "from [HESData].[nhp_strategies].[ip_evidence_based_interventions_general_surgery]\n",
    "where fraction >= RAND(CHECKSUM(NewId()))\n",
    "\n",
    "\n",
    "union\n",
    "\n",
    "\n",
    "select EPIKEY, fyear\n",
    "from [HESData].[nhp_strategies].[ip_evidence_based_interventions_gi_surgical]\n",
    "where fraction >= RAND(CHECKSUM(NewId()))\n",
    "\n",
    "union\n",
    "\n",
    "\n",
    "select EPIKEY, fyear\n",
    "from [HESData].[nhp_strategies].[ip_evidence_based_interventions_msk]\n",
    "where fraction >= RAND(CHECKSUM(NewId()))\n",
    "\n",
    "union\n",
    "\n",
    "\n",
    "select EPIKEY, fyear\n",
    "from [HESData].[nhp_strategies].[ip_evidence_based_interventions_urology]\n",
    "where fraction >= RAND(CHECKSUM(NewId()))\n",
    "\n",
    "union\n",
    "\n",
    "\n",
    "select EPIKEY, fyear\n",
    "from [HESData].[nhp_strategies].[ip_evidence_based_interventions_vasuclar_varicose_veins]\n",
    "where fraction >= RAND(CHECKSUM(NewId()))\n",
    "```\n",
    "\n"
   ]
  },
  {
   "cell_type": "markdown",
   "metadata": {
    "application/vnd.databricks.v1+cell": {
     "cellMetadata": {},
     "inputWidgets": {},
     "nuid": "81a857f8-f2a0-4c53-96cc-2882b96a7b70",
     "showTitle": false,
     "tableResultSettingsMap": {},
     "title": ""
    }
   },
   "source": [
    "### outpatient de-adoption\n",
    "```sql\n",
    "use StrategicWorking\n",
    "\n",
    "--drop table dbo.sw_op_mitigatable_rationing\n",
    "\n",
    "select attendkey, fyear\n",
    "\n",
    "into dbo.sw_op_mitigatable_rationing\n",
    "\n",
    "from [HESData].[nhp_strategies].[op_followup_reduction]\n",
    "where fraction >= RAND(CHECKSUM(NewId()))\n",
    "\n",
    "union\n",
    "\n",
    "\n",
    "select attendkey, fyear\n",
    "from [HESData].[nhp_strategies].[op_consultant_to_consultant_referrals]\n",
    "where fraction >= RAND(CHECKSUM(NewId()))\n",
    "```"
   ]
  },
  {
   "cell_type": "markdown",
   "metadata": {
    "application/vnd.databricks.v1+cell": {
     "cellMetadata": {},
     "inputWidgets": {},
     "nuid": "bb086adf-f27c-4d53-bae7-011c0b4d3755",
     "showTitle": false,
     "tableResultSettingsMap": {},
     "title": ""
    }
   },
   "source": [
    "### emergency department re-direction and substitution\n",
    "```sql\n",
    "use StrategicWorking\n",
    "\n",
    "--drop table dbo.sw_ed_mitigatable_redirect_substitute\n",
    "\n",
    "\n",
    "select aekey, fyear\n",
    "\n",
    "into dbo.sw_ed_mitigatable_redirect_substitute\n",
    "\n",
    "from [HESData].[nhp_strategies].[aae_frequent_attender]\n",
    "where fraction >= RAND(CHECKSUM(NewId()))\n",
    "\n",
    "union\n",
    "\n",
    "\n",
    "select aekey, fyear\n",
    "from [HESData].[nhp_strategies].[aae_left_before_treatment]\n",
    "where fraction >= RAND(CHECKSUM(NewId()))\n",
    "\n",
    "\n",
    "union\n",
    "\n",
    "\n",
    "select aekey, fyear\n",
    "from [HESData].[nhp_strategies].[aae_low_cost_discharged]\n",
    "where fraction >= RAND(CHECKSUM(NewId()))\n",
    "```"
   ]
  }
 ],
 "metadata": {
  "application/vnd.databricks.v1+notebook": {
   "computePreferences": null,
   "dashboards": [],
   "environmentMetadata": {
    "base_environment": "",
    "environment_version": "2"
   },
   "inputWidgetPreferences": null,
   "language": "python",
   "notebookMetadata": {
    "mostRecentlyExecutedCommandWithImplicitDF": {
     "commandId": 7422145436682749,
     "dataframes": [
      "_sqldf"
     ]
    },
    "pythonIndentUnit": 4
   },
   "notebookName": "data_bricks_activity_mitig_extraction",
   "widgets": {}
  },
  "language_info": {
   "name": "python"
  }
 },
 "nbformat": 4,
 "nbformat_minor": 0
}
