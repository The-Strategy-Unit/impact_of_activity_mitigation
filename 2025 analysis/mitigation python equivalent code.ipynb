{
 "cells": [
  {
   "cell_type": "markdown",
   "metadata": {
    "application/vnd.databricks.v1+cell": {
     "cellMetadata": {},
     "inputWidgets": {},
     "nuid": "c49d18c2-dd26-4f40-95bd-397537b19339",
     "showTitle": false,
     "tableResultSettingsMap": {},
     "title": ""
    }
   },
   "source": [
    "## Admitted patient care"
   ]
  },
  {
   "cell_type": "code",
   "execution_count": 0,
   "metadata": {
    "application/vnd.databricks.v1+cell": {
     "cellMetadata": {},
     "inputWidgets": {},
     "nuid": "526d8bdf-937e-480b-9371-94de3addb795",
     "showTitle": false,
     "tableResultSettingsMap": {},
     "title": ""
    }
   },
   "outputs": [],
   "source": [
    "# direct pyspark sql version of above\n",
    "from pyspark.sql import functions as F\n",
    "\n",
    "# Load tables\n",
    "apc_df = spark.table(\"nhp.raw_data.apc\")\n",
    "activity_mitigation_df = spark.table(\"activity_mitigation_table\")\n",
    "icd10_codes_gabriel_df = spark.table(\"icd10_codes_gabriel\")\n",
    "\n",
    "# Join tables\n",
    "joined_df = apc_df.join(activity_mitigation_df, apc_df.epikey == activity_mitigation_df.epikey, \"left\") \\\n",
    "                  .join(icd10_codes_gabriel_df, apc_df.primary_diagnosis == icd10_codes_gabriel_df.icd10, \"left\")\n",
    "\n",
    "# Filter and group by\n",
    "result_df = joined_df.filter((apc_df.fyear >= '201112') & (apc_df.fyear <= '201920')) \\\n",
    "    .groupBy(\n",
    "        apc_df.fyear,\n",
    "        apc_df.group.alias(\"pod\"),\n",
    "        apc_df.age,\n",
    "        apc_df.resgor_ons,\n",
    "        F.when(apc_df.sex == '1', 'm').otherwise('f').alias(\"sex\"),\n",
    "        icd10_codes_gabriel_df.chapter_number,\n",
    "        apc_df.imd_quintile,\n",
    "        activity_mitigation_df.mitigation_type\n",
    "    ) \\\n",
    "    .agg(F.count(apc_df.epikey).alias(\"activity\"))\n"
   ]
  },
  {
   "cell_type": "code",
   "execution_count": 0,
   "metadata": {
    "application/vnd.databricks.v1+cell": {
     "cellMetadata": {},
     "inputWidgets": {},
     "nuid": "b0e60373-9980-472c-b5d6-d85f2afd590c",
     "showTitle": false,
     "tableResultSettingsMap": {},
     "title": ""
    }
   },
   "outputs": [],
   "source": [
    "from pyspark.sql import functions as F\n",
    "\n",
    "summary_df = result_df.groupBy(\"fyear\", \"pod\", \"mitigation_type\").agg(\n",
    "    F.sum(\"activity\").alias(\"activity\")\n",
    ")\n"
   ]
  },
  {
   "cell_type": "code",
   "execution_count": 0,
   "metadata": {
    "application/vnd.databricks.v1+cell": {
     "cellMetadata": {},
     "inputWidgets": {},
     "nuid": "6ea8d5d7-d555-4859-a1f6-90becebd7f65",
     "showTitle": false,
     "tableResultSettingsMap": {},
     "title": ""
    }
   },
   "outputs": [],
   "source": [
    "from pyspark.sql.window import Window\n",
    "\n",
    "w = Window.partitionBy(\"pod\", \"mitigation_type\").orderBy(\"fyear\")\n",
    "\n",
    "first_activity = F.first(\"activity\").over(w.rowsBetween(Window.unboundedPreceding, Window.unboundedFollowing))\n",
    "\n",
    "indexed_df = summary_df.withColumn(\"first_activity\", F.first(\"activity\").over(w)) \\\n",
    "                       .withColumn(\"activity_indexed\", F.col(\"activity\") / F.col(\"first_activity\"))\n"
   ]
  },
  {
   "cell_type": "code",
   "execution_count": 0,
   "metadata": {
    "application/vnd.databricks.v1+cell": {
     "cellMetadata": {},
     "inputWidgets": {},
     "nuid": "ecba19ee-9e59-4d87-8fc2-dae07f245172",
     "showTitle": false,
     "tableResultSettingsMap": {},
     "title": ""
    }
   },
   "outputs": [],
   "source": [
    "import seaborn as sns\n",
    "import matplotlib.pyplot as plt\n",
    "\n",
    "# Set style and color palette (customize if needed)\n",
    "sns.set(style=\"whitegrid\")\n",
    "\n",
    "\n",
    "# Create FacetGrid\n",
    "g = sns.FacetGrid(indexed_df.toPandas(), col=\"pod\", col_wrap=3, sharey=False, height=4)\n",
    "\n",
    "# Add lineplots to each facet\n",
    "g.map_dataframe(sns.lineplot,\n",
    "                x=\"fyear\", \n",
    "                y=\"activity_indexed\", \n",
    "                hue=\"mitigation_type\", \n",
    "                palette=palette, \n",
    "                linewidth=1)\n",
    "\n",
    "# Adjust legend\n",
    "g.add_legend(title=None, ncol=2)\n",
    "g.set_titles(col_template=\"{col_name}\")\n",
    "g.set_axis_labels(\"Financial year\", \"Activity (indexed)\")\n",
    "\n",
    "# Improve layout\n",
    "plt.subplots_adjust(top=0.9)\n",
    "g.fig.suptitle(\"Indexed trends by pod and mitigation for gam/bam data\")\n",
    "plt.tight_layout(rect=[0, 0, 1, 0.95])  # leave space for title\n"
   ]
  },
  {
   "cell_type": "markdown",
   "metadata": {
    "application/vnd.databricks.v1+cell": {
     "cellMetadata": {},
     "inputWidgets": {},
     "nuid": "ca4b8743-faf1-47a9-86de-c43bcbc3a10f",
     "showTitle": false,
     "tableResultSettingsMap": {},
     "title": ""
    }
   },
   "source": [
    "## opa"
   ]
  },
  {
   "cell_type": "code",
   "execution_count": 0,
   "metadata": {
    "application/vnd.databricks.v1+cell": {
     "cellMetadata": {},
     "inputWidgets": {},
     "nuid": "51abbf23-7312-4f1e-947a-7616362464ee",
     "showTitle": false,
     "tableResultSettingsMap": {},
     "title": ""
    }
   },
   "outputs": [],
   "source": [
    "opa_mitig = spark.table(\"nhp.raw_data.opa_mitigators\")"
   ]
  },
  {
   "cell_type": "code",
   "execution_count": 0,
   "metadata": {
    "application/vnd.databricks.v1+cell": {
     "cellMetadata": {},
     "inputWidgets": {},
     "nuid": "3ecbf065-1043-47f3-85aa-a200a3a0bbc6",
     "showTitle": false,
     "tableResultSettingsMap": {},
     "title": ""
    }
   },
   "outputs": [],
   "source": [
    "opa_mitig.select(\"strategy\").distinct().display()"
   ]
  },
  {
   "cell_type": "code",
   "execution_count": 0,
   "metadata": {
    "application/vnd.databricks.v1+cell": {
     "cellMetadata": {},
     "inputWidgets": {},
     "nuid": "8ad88ec4-0f42-403b-8cbd-33a7f2cdf69a",
     "showTitle": false,
     "tableResultSettingsMap": {},
     "title": ""
    }
   },
   "outputs": [],
   "source": [
    "from pyspark.sql.functions import col, when, countDistinct, lit\n",
    "\n",
    "opa_df = spark.table(\"nhp.raw_data.opa\")\n",
    "opa_mitigators_df = spark.table(\"nhp.raw_data.opa_mitigators\").filter(~col(\"strategy\").like(\"convert_to_tele%\"))\n",
    "\n",
    "result_df = opa_df.alias(\"a\") \\\n",
    "    .join(opa_mitigators_df.alias(\"b\"), \n",
    "          (col(\"a.attendkey\") == col(\"b.attendkey\")) & \n",
    "          (col(\"a.provider\") == col(\"b.provider\")) & \n",
    "          (col(\"a.fyear\") == col(\"b.fyear\")), \n",
    "          \"left\") \\\n",
    "    .filter(col(\"a.fyear\").between(201112, 201920)) \\\n",
    "    .groupBy(\n",
    "        col(\"a.fyear\"), \n",
    "        col(\"a.age\"), \n",
    "        col(\"a.sex\"), \n",
    "        col(\"a.type\"), \n",
    "        col(\"a.imd_quintile\"), \n",
    "        col(\"a.resgor_ons\"),\n",
    "        when(col(\"b.strategy\").isNotNull(), \"deAdopt\").otherwise(\"none\").alias(\"mitigation_type\")\n",
    "    ) \\\n",
    "    .agg(countDistinct(col(\"a.attendkey\")).alias(\"activity\")) \\\n",
    "    .withColumn(\"pod\", lit(\"opa\"))"
   ]
  },
  {
   "cell_type": "code",
   "execution_count": 0,
   "metadata": {
    "application/vnd.databricks.v1+cell": {
     "cellMetadata": {},
     "inputWidgets": {},
     "nuid": "067faca8-cb9b-495a-b36e-c896d188173d",
     "showTitle": false,
     "tableResultSettingsMap": {},
     "title": ""
    }
   },
   "outputs": [],
   "source": [
    "result_df.display()"
   ]
  }
 ],
 "metadata": {
  "application/vnd.databricks.v1+notebook": {
   "computePreferences": null,
   "dashboards": [],
   "environmentMetadata": {
    "base_environment": "",
    "environment_version": "2"
   },
   "inputWidgetPreferences": null,
   "language": "python",
   "notebookMetadata": {
    "pythonIndentUnit": 4
   },
   "notebookName": "mitigation python equivalent code",
   "widgets": {}
  },
  "language_info": {
   "name": "python"
  }
 },
 "nbformat": 4,
 "nbformat_minor": 0
}
