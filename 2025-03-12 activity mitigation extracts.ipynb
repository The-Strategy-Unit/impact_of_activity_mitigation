{
 "cells": [
  {
   "cell_type": "markdown",
   "metadata": {
    "application/vnd.databricks.v1+cell": {
     "cellMetadata": {},
     "inputWidgets": {},
     "nuid": "1d07ce46-8e38-4e49-bf12-295b550077ce",
     "showTitle": false,
     "tableResultSettingsMap": {},
     "title": ""
    }
   },
   "source": [
    "## Inpatient activity"
   ]
  },
  {
   "cell_type": "markdown",
   "metadata": {
    "application/vnd.databricks.v1+cell": {
     "cellMetadata": {},
     "inputWidgets": {},
     "nuid": "b0f19b64-82e2-44b8-8f56-2184719f403e",
     "showTitle": false,
     "tableResultSettingsMap": {},
     "title": ""
    }
   },
   "source": [
    "### Mitigation data"
   ]
  },
  {
   "cell_type": "markdown",
   "metadata": {
    "application/vnd.databricks.v1+cell": {
     "cellMetadata": {},
     "inputWidgets": {},
     "nuid": "3a8746e7-b391-455f-b5e8-5b2108ab0919",
     "showTitle": false,
     "tableResultSettingsMap": {},
     "title": ""
    }
   },
   "source": [
    "We have the table `nhp.raw_data.apc_mitigators` which we will use for collecting data on mitigation. However, this goes to the granularity of 92 mitigators, whilst we are concerning ourselves with three *types* of mitigation, as well as the counterfactual: re-direction and substitution (\"reSu\"), prevention (\"prev\") and de-adoption (\"deAdopt\"). There are also instances in which a specific hospital admission is in scope of more than mitigator; in this case we choose assign the admission according to a hierachy: prevention > de-adoption > re-direction and substitution; else \"none\". Finally, the mitigators have rates which we must sample from to reflect the fact that now all cases meeting the [definitions for each mitigator](https://connect.strategyunitwm.nhs.uk/nhp/project_information/modelling_methodology/activity_mitigators/inpatient_activity_mitigators.html) will actually be relevant.\n",
    "\n",
    "The below query creates a view `activity_mitigation_table` where the sampling, grouping and hierachy have been effected."
   ]
  },
  {
   "cell_type": "code",
   "execution_count": 0,
   "metadata": {
    "application/vnd.databricks.v1+cell": {
     "cellMetadata": {
      "byteLimit": 2048000,
      "implicitDf": true,
      "rowLimit": 10000
     },
     "inputWidgets": {},
     "nuid": "27008bc2-5937-44b7-b639-3ae7501f034a",
     "showTitle": false,
     "tableResultSettingsMap": {},
     "title": ""
    }
   },
   "outputs": [],
   "source": [
    "%sql\n",
    "select * from su_data.reference.icd10_codes"
   ]
  },
  {
   "cell_type": "code",
   "execution_count": 0,
   "metadata": {
    "application/vnd.databricks.v1+cell": {
     "cellMetadata": {
      "byteLimit": 2048000,
      "implicitDf": true,
      "rowLimit": 10000
     },
     "inputWidgets": {},
     "nuid": "5c043040-b4a9-4f47-975c-d018b42add2e",
     "showTitle": false,
     "tableResultSettingsMap": {},
     "title": ""
    }
   },
   "outputs": [],
   "source": [
    "%sql\n",
    "CREATE VIEW activity_mitigation_table AS\n",
    "WITH sampled_data AS (\n",
    "    SELECT\n",
    "        epikey,\n",
    "        sample_rate,\n",
    "        type,\n",
    "        strategy,\n",
    "        CASE\n",
    "            WHEN strategy IN (\n",
    "                'alcohol_partially_attributable_acute', 'alcohol_partially_attributable_chronic', 'alcohol_wholly_attributable', 'falls_related_admissions',\n",
    "                'obesity_related_admissions', 'smoking') THEN 'prev'\n",
    "            WHEN strategy IN (\n",
    "                'evidence_based_interventions_ent', 'evidence_based_interventions_general_surgery', 'evidence_based_interventions_gi_surgical',\n",
    "                'evidence_based_interventions_msk', 'evidence_based_interventions_urology', 'evidence_based_interventions_vascular_varicose_veins') THEN 'deAdopt'\n",
    "            WHEN strategy IN (\n",
    "                'ambulatory_care_conditions_acute', 'ambulatory_care_conditions_chronic', 'ambulatory_care_conditions_vaccine_preventable',\n",
    "                'eol_care_2_days', 'eol_care_3_to_14_days', 'frail_elderly_high', 'frail_elderly_intermediate', 'intentional_self_harm',\n",
    "                'medically_unexplained_related_admissions', 'medicines_related_admissions_explicit', 'medicines_related_admissions_implicit_anti-diabetics',\n",
    "                'medicines_related_admissions_implicit_benzodiasepines', 'medicines_related_admissions_implicit_diurectics',\n",
    "                'medicines_related_admissions_implicit_nsaids', 'raid_ae', 'readmission_within_28_days', 'zero_los_no_procedure_adult',\n",
    "                'zero_los_no_procedure_child') THEN 'reSu'\n",
    "            ELSE 'none'\n",
    "        END AS mitigation_type\n",
    "    FROM nhp.raw_data.apc_mitigators\n",
    "    WHERE sample_rate >= RAND()\n",
    "),\n",
    "ranked_data AS (\n",
    "    SELECT\n",
    "        *,\n",
    "        ROW_NUMBER() OVER (\n",
    "            PARTITION BY epikey\n",
    "            ORDER BY\n",
    "                CASE mitigation_type\n",
    "                    WHEN 'prev' THEN 1\n",
    "                    WHEN 'deAdopt' THEN 2\n",
    "                    WHEN 'reSu' THEN 3\n",
    "                    ELSE 4\n",
    "                END\n",
    "        ) AS rn\n",
    "    FROM sampled_data\n",
    ")\n",
    "SELECT * FROM ranked_data WHERE rn = 1;\n"
   ]
  },
  {
   "cell_type": "markdown",
   "metadata": {
    "application/vnd.databricks.v1+cell": {
     "cellMetadata": {},
     "inputWidgets": {},
     "nuid": "9c836f54-1786-45ff-b083-811522f3eb52",
     "showTitle": false,
     "tableResultSettingsMap": {},
     "title": ""
    }
   },
   "source": [
    "### Note on missing mitigators\n",
    "In the query above we 30 specific strategies that have been allocated to one of the three types of mitigation. \n",
    "\n",
    "However, there are 33 inpatient activity avoidance mitigators (derived below), meaning there are three missing:\n",
    "\n",
    "- _cancelled_operations_\n",
    "- _virtual_wards_activity_avoidance_ari_\n",
    "- _virtual_wards_activity_avoidance_heart_failure_\n"
   ]
  },
  {
   "cell_type": "code",
   "execution_count": 0,
   "metadata": {
    "application/vnd.databricks.v1+cell": {
     "cellMetadata": {
      "byteLimit": 2048000,
      "implicitDf": true,
      "rowLimit": 10000
     },
     "inputWidgets": {},
     "nuid": "0224ba96-740b-44da-93c7-5049a2486f97",
     "showTitle": false,
     "tableResultSettingsMap": {},
     "title": ""
    }
   },
   "outputs": [],
   "source": [
    "%sql\n",
    "select distinct strategy from nhp.raw_data.apc_mitigators where type = \"activity_avoidance\""
   ]
  },
  {
   "cell_type": "markdown",
   "metadata": {
    "application/vnd.databricks.v1+cell": {
     "cellMetadata": {},
     "inputWidgets": {},
     "nuid": "31fe3037-3075-4393-af8f-708bdf2c77b6",
     "showTitle": false,
     "tableResultSettingsMap": {},
     "title": ""
    }
   },
   "source": [
    "### ICD10 chapters\n",
    "\n",
    "One of the things we want the data by is ICD10 chapter of the principal diagnosis.\n",
    "\n",
    "There is an existing reference table `Su_data.reference.icd10_codes` but we just need to create a new copy `icd10_codes_gabriel` as the main refence table does not have the chapters correctedly tabulated."
   ]
  },
  {
   "cell_type": "code",
   "execution_count": 0,
   "metadata": {
    "application/vnd.databricks.v1+cell": {
     "cellMetadata": {
      "byteLimit": 2048000,
      "implicitDf": true,
      "rowLimit": 10000
     },
     "inputWidgets": {},
     "nuid": "707cefd9-46b5-4a85-ae94-7ddd3ca5e2de",
     "showTitle": false,
     "tableResultSettingsMap": {},
     "title": ""
    }
   },
   "outputs": [],
   "source": [
    "%sql\n",
    "CREATE OR REPLACE VIEW icd10_codes_gabriel as\n",
    "SELECT\n",
    "    *,\n",
    "    CASE \n",
    "        WHEN chapter_description = 'Certain infectious and parasitic diseases' THEN 'I'\n",
    "        WHEN chapter_description = 'Neoplasms' THEN 'II'\n",
    "        WHEN chapter_description = 'Diseases of the blood and blood-forming organs and certain disorders involving the immune mechanism' THEN 'III'\n",
    "        WHEN chapter_description = 'Endocrine, nutritional and metabolic diseases' THEN 'IV'\n",
    "        WHEN chapter_description = 'Mental and behavioural disorders' THEN 'V'\n",
    "        WHEN chapter_description = 'Diseases of the nervous system' THEN 'VI'\n",
    "        WHEN chapter_description = 'Diseases of the eye and adnexa' THEN 'VII'\n",
    "        WHEN chapter_description = 'Diseases of the ear and mastoid process' THEN 'VIII'\n",
    "        WHEN chapter_description = 'Diseases of the circulatory system' THEN 'IX'\n",
    "        WHEN chapter_description = 'Diseases of the respiratory system' THEN 'X'\n",
    "        WHEN chapter_description = 'Diseases of the digestive system' THEN 'XI'\n",
    "        WHEN chapter_description = 'Diseases of the skin and subcutaneous tissue' THEN 'XII'\n",
    "        WHEN chapter_description = 'Diseases of the musculoskeletal system and connective tissue' THEN 'XIII'\n",
    "        WHEN chapter_description = 'Diseases of the genitourinary system' THEN 'XIV'\n",
    "        WHEN chapter_description = 'Pregnancy, childbirth and the puerperium' THEN 'XV'\n",
    "        WHEN chapter_description = 'Certain conditions originating in the perinatal period' THEN 'XVI'\n",
    "        WHEN chapter_description = 'Congenital malformations, deformations and chromosomal abnormalities' THEN 'XVII'\n",
    "        WHEN chapter_description = 'Symptoms, signs and abnormal clinical and laboratory findings, not elsewhere classified' THEN 'XVIII'\n",
    "        WHEN chapter_description = 'Injury, poisoning and certain other consequences of external causes' THEN 'XIX'\n",
    "        WHEN chapter_description = 'External causes of morbidity and mortality' THEN 'XX'\n",
    "        WHEN chapter_description = 'Factors influencing health status and contact with health services' THEN 'XXI'\n",
    "        WHEN chapter_description = 'Codes for special purposes' THEN 'XXII'\n",
    "    END AS chapter_number\n",
    "FROM strategyunit.reference.icd10_codes "
   ]
  },
  {
   "cell_type": "code",
   "execution_count": 0,
   "metadata": {
    "application/vnd.databricks.v1+cell": {
     "cellMetadata": {
      "byteLimit": 2048000,
      "implicitDf": true,
      "rowLimit": 10000
     },
     "inputWidgets": {},
     "nuid": "161c23e6-d903-41ec-b694-2f0a505804d3",
     "showTitle": false,
     "tableResultSettingsMap": {},
     "title": ""
    }
   },
   "outputs": [],
   "source": [
    "%sql\n",
    "select distinct chapter_code from "
   ]
  },
  {
   "cell_type": "markdown",
   "metadata": {
    "application/vnd.databricks.v1+cell": {
     "cellMetadata": {},
     "inputWidgets": {},
     "nuid": "6dfb3a7c-9d8d-42cb-b07d-d40b550065d3",
     "showTitle": false,
     "tableResultSettingsMap": {},
     "title": ""
    }
   },
   "source": [
    "### Extracting data\n",
    "\n",
    "The aim is to extract counts of activity (spells) by the following groups:\n",
    "\n",
    "-   financial year\n",
    "-   admission type / pod\n",
    "-   age\n",
    "-   sex\n",
    "-   region\n",
    "-   ICD-10 chapter\n",
    "-   deprivation quintile\n",
    "-   mitigation type"
   ]
  },
  {
   "cell_type": "code",
   "execution_count": 0,
   "metadata": {
    "application/vnd.databricks.v1+cell": {
     "cellMetadata": {
      "byteLimit": 2048000,
      "implicitDf": true,
      "rowLimit": 10000
     },
     "inputWidgets": {},
     "nuid": "793ee3eb-079d-46ed-8847-966d993c2cdb",
     "showTitle": false,
     "tableResultSettingsMap": {},
     "title": ""
    }
   },
   "outputs": [],
   "source": [
    "%sql\n",
    "describe activity_mitigation_table"
   ]
  },
  {
   "cell_type": "code",
   "execution_count": 0,
   "metadata": {
    "application/vnd.databricks.v1+cell": {
     "cellMetadata": {
      "byteLimit": 2048000,
      "implicitDf": true,
      "rowLimit": 10000
     },
     "inputWidgets": {},
     "nuid": "6e82c72c-3d82-4158-b28c-9e7e30709326",
     "showTitle": false,
     "tableResultSettingsMap": {},
     "title": ""
    }
   },
   "outputs": [],
   "source": [
    "%sql\n",
    "select * from activity_mitigation_table"
   ]
  },
  {
   "cell_type": "code",
   "execution_count": 0,
   "metadata": {
    "application/vnd.databricks.v1+cell": {
     "cellMetadata": {
      "byteLimit": 2048000,
      "implicitDf": true,
      "rowLimit": 10000
     },
     "inputWidgets": {},
     "nuid": "048f87ec-9aca-471d-b90c-2c360f251926",
     "showTitle": false,
     "tableResultSettingsMap": {
      "0": {
       "dataGridStateBlob": null,
       "filterBlob": "{\"filterGroups\":[],\"syncTimestamp\":1743778929904}",
       "queryPlanFiltersBlob": null,
       "tableResultIndex": 0
      }
     },
     "title": ""
    }
   },
   "outputs": [],
   "source": [
    "%sql\n",
    "SELECT\n",
    "  a.fyear,\n",
    "  a.group AS pod,\n",
    "  a.age,\n",
    "  a.resgor_ons,\n",
    "  CASE\n",
    "    WHEN a.sex = '1' THEN 'm'\n",
    "    ELSE 'f'\n",
    "  END AS sex,\n",
    "  d.chapter_number,\n",
    "  a.imd_quintile,\n",
    "  b.mitigation_type,\n",
    "  COUNT(a.epikey) AS activity  \n",
    " FROM nhp.raw_data.apc a\n",
    " LEFT JOIN \n",
    "  activity_mitigation_table b\n",
    "  ON a.epikey = b.epikey\n",
    "LEFT JOIN\n",
    "  icd10_codes_gabriel d\n",
    "  ON a.primary_diagnosis = d.icd10\n",
    "WHERE\n",
    "  a.fyear BETWEEN '201112' AND '201920'\n",
    "GROUP BY\n",
    "  a.fyear,\n",
    "  a.group,\n",
    "  a.age,\n",
    "  a.resgor_ons,\n",
    "  CASE\n",
    "    WHEN a.sex = '1' THEN 'm'\n",
    "    ELSE 'f'\n",
    "  END,\n",
    "  d.chapter_number,\n",
    "  a.imd_quintile,\n",
    "  b.mitigation_type;"
   ]
  },
  {
   "cell_type": "code",
   "execution_count": 0,
   "metadata": {
    "application/vnd.databricks.v1+cell": {
     "cellMetadata": {
      "byteLimit": 2048000,
      "implicitDf": true,
      "rowLimit": 10000
     },
     "inputWidgets": {},
     "nuid": "0a9fba48-5c02-400e-ba08-1e79ffe241f9",
     "showTitle": false,
     "tableResultSettingsMap": {
      "0": {
       "dataGridStateBlob": null,
       "filterBlob": "{\"filterGroups\":[],\"syncTimestamp\":1744898086248}",
       "queryPlanFiltersBlob": null,
       "tableResultIndex": 0
      }
     },
     "title": ""
    }
   },
   "outputs": [],
   "source": [
    "%sql\n",
    "-- Aim here is to just the counts of mitigation each year and just confirm that elective de-adoption is indeed rising the fastest\n",
    "SELECT\n",
    "  a.fyear,\n",
    "  a.group AS pod,\n",
    "  CASE\n",
    "    WHEN isnull(b.mitigation_type) THEN 'none'\n",
    "    ELSE b.mitigation_type\n",
    "  END AS mitigation_type,\n",
    "  COUNT(a.epikey) AS activity  \n",
    "FROM nhp.raw_data.apc a \n",
    "LEFT JOIN \n",
    "  activity_mitigation_table b\n",
    "  ON a.epikey = b.epikey\n",
    "GROUP BY\n",
    "  a.fyear,\n",
    "  a.group,\n",
    "  CASE\n",
    "    WHEN isnull(b.mitigation_type) THEN 'none'\n",
    "    ELSE b.mitigation_type\n",
    "  END\n"
   ]
  },
  {
   "cell_type": "markdown",
   "metadata": {
    "application/vnd.databricks.v1+cell": {
     "cellMetadata": {},
     "inputWidgets": {},
     "nuid": "f1d4fddf-f13a-4d86-9b99-551b84e77841",
     "showTitle": false,
     "tableResultSettingsMap": {},
     "title": ""
    }
   },
   "source": [
    "## Outpatient activity"
   ]
  },
  {
   "cell_type": "markdown",
   "metadata": {
    "application/vnd.databricks.v1+cell": {
     "cellMetadata": {},
     "inputWidgets": {},
     "nuid": "8c549350-7fcb-42f9-b2a5-514db4dcd725",
     "showTitle": false,
     "tableResultSettingsMap": {},
     "title": ""
    }
   },
   "source": [
    "## Outpatients\n",
    "\n",
    "Consulting the lookup there are 12 outpatients. Each of these will be 4 variants, so in reality it's 3 OPA groupings.\n",
    "\n",
    "These are the ones in Stevem's lookup:\n",
    "- consultant_to_consultant_reduction_adult_non-surgical\n",
    "- consultant_to_consultant_reduction_adult_surgical\n",
    "- consultant_to_consultant_reduction_child_non-surgical\n",
    "- consultant_to_consultant_reduction_child_surgical\n",
    "- followup_reduction_adult_non-surgical\n",
    "- followup_reduction_adult_surgical\n",
    "- followup_reduction_child_non-surgical\n",
    "- followup_reduction_child_surgical\n",
    "\n",
    "\n",
    "We're off by one set of four:\n",
    "- gp_referred_first_attendance_reduction_adult_non-surgical\n",
    "- gp_referred_first_attendance_reduction_adult_surgical\n",
    "- gp_referred_first_attendance_reduction_child_non-surgical\n",
    "- gp_referred_first_attendance_reduction_child_surgical"
   ]
  },
  {
   "cell_type": "markdown",
   "metadata": {
    "application/vnd.databricks.v1+cell": {
     "cellMetadata": {},
     "inputWidgets": {},
     "nuid": "ebae5106-d0b5-4c0a-aeda-89bf0fe21b53",
     "showTitle": false,
     "tableResultSettingsMap": {},
     "title": ""
    }
   },
   "source": [
    "### Creating the mitigators table"
   ]
  },
  {
   "cell_type": "markdown",
   "metadata": {
    "application/vnd.databricks.v1+cell": {
     "cellMetadata": {},
     "inputWidgets": {},
     "nuid": "f351a3f1-a67c-4f10-874a-4c2fe3e9999b",
     "showTitle": false,
     "tableResultSettingsMap": {},
     "title": ""
    }
   },
   "source": [
    "### Extraction\n",
    "\n",
    "All the OPA mitigators are categorised as de-adoption, so there is no need to create this mitigator type variable in the table; we will simply check if the episode appears in that table and if so categorise it as de-adoption.\n",
    "\n",
    "NOTE: in this case we do use a join to take advantage of the new table that Tom has created via workflow: `nhp.raw_data.opa_mitigators`.\n",
    "\n",
    "We do need to deal with attendances that appear more than once so we count distinct on `attendkey`.\n",
    "\n",
    "This is still breaking down so we split the data into two extracts: one for 2011-12 to 2014-15 and another for 2015-16 to 2019-20. This isn't an arbritrary division as 2015-16 is the point at which the region variable is properly populated."
   ]
  },
  {
   "cell_type": "code",
   "execution_count": 0,
   "metadata": {
    "application/vnd.databricks.v1+cell": {
     "cellMetadata": {
      "byteLimit": 2048000,
      "implicitDf": true,
      "rowLimit": 10000
     },
     "inputWidgets": {},
     "nuid": "fece686c-b61a-47ba-a10a-091be56952cd",
     "showTitle": false,
     "tableResultSettingsMap": {},
     "title": ""
    }
   },
   "outputs": [],
   "source": [
    "%sql\n",
    "SELECT \n",
    "  'opa' AS pod,\n",
    "  a.fyear, \n",
    "  a.age, \n",
    "  a.sex,\n",
    "  a.type,\n",
    "  a.imd_quintile,\n",
    "  a.resgor_ons,\n",
    "  CASE\n",
    "    WHEN isnotnull(b.strategy) AND b.strategy NOT LIKE 'convert_to_tele%' THEN 'deAdopt'\n",
    "    ELSE 'none'\n",
    "  END AS mitigation_type,\n",
    "  COUNT(distinct a.attendkey) AS activity\n",
    "FROM\n",
    "  nhp.raw_data.opa a\n",
    "LEFT JOIN\n",
    "  nhp.raw_data.opa_mitigators b\n",
    "  ON a.attendkey = b.attendkey AND a.provider = b.provider AND a.fyear = b.fyear\n",
    "WHERE\n",
    "  a.fyear between 201112 and 201415\n",
    "GROUP BY\n",
    "  a.fyear, \n",
    "  a.age, \n",
    "  a.sex,\n",
    "  a.type,\n",
    "  a.imd_quintile,\n",
    "  a.resgor_ons,\n",
    "  CASE\n",
    "    WHEN isnotnull(b.strategy) AND b.strategy NOT LIKE 'convert_to_tele%' THEN 'deAdopt'\n",
    "    ELSE 'none'\n",
    "  END;"
   ]
  },
  {
   "cell_type": "code",
   "execution_count": 0,
   "metadata": {
    "application/vnd.databricks.v1+cell": {
     "cellMetadata": {
      "byteLimit": 2048000,
      "implicitDf": true,
      "rowLimit": 10000
     },
     "inputWidgets": {},
     "nuid": "aa3d6567-9306-4a3f-b20e-660a7a229739",
     "showTitle": false,
     "tableResultSettingsMap": {},
     "title": ""
    }
   },
   "outputs": [],
   "source": [
    "%sql\n",
    "SELECT \n",
    "  'opa' AS pod,\n",
    "  a.fyear, \n",
    "  a.age, \n",
    "  a.sex,\n",
    "  a.type,\n",
    "  a.imd_quintile,\n",
    "  a.resgor_ons,\n",
    "  CASE\n",
    "    WHEN isnotnull(b.strategy) AND b.strategy NOT LIKE 'convert_to_tele%' THEN 'deAdopt'\n",
    "    ELSE 'none'\n",
    "  END AS mitigation_type,\n",
    "  COUNT(distinct a.attendkey) AS activity\n",
    "FROM\n",
    "  nhp.raw_data.opa a\n",
    "LEFT JOIN\n",
    "  nhp.raw_data.opa_mitigators b\n",
    "  ON a.attendkey = b.attendkey AND a.provider = b.provider AND a.fyear = b.fyear\n",
    "WHERE\n",
    "  a.fyear between 201516 and 201819\n",
    "GROUP BY\n",
    "  a.fyear, \n",
    "  a.age, \n",
    "  a.sex,\n",
    "  a.type,\n",
    "  a.imd_quintile,\n",
    "  a.resgor_ons,\n",
    "  CASE\n",
    "    WHEN isnotnull(b.strategy) AND b.strategy NOT LIKE 'convert_to_tele%' THEN 'deAdopt'\n",
    "    ELSE 'none'\n",
    "  END;"
   ]
  },
  {
   "cell_type": "code",
   "execution_count": 0,
   "metadata": {
    "application/vnd.databricks.v1+cell": {
     "cellMetadata": {
      "byteLimit": 2048000,
      "implicitDf": true,
      "rowLimit": 10000
     },
     "inputWidgets": {},
     "nuid": "40633ab0-9b6b-443f-b3f3-0e59269a61e4",
     "showTitle": false,
     "tableResultSettingsMap": {},
     "title": ""
    }
   },
   "outputs": [],
   "source": [
    "%sql\n",
    "SELECT \n",
    "  'opa' AS pod,\n",
    "  a.fyear, \n",
    "  a.age, \n",
    "  a.sex,\n",
    "  a.type,\n",
    "  a.imd_quintile,\n",
    "  a.resgor_ons,\n",
    "  CASE\n",
    "    WHEN isnotnull(b.strategy) AND b.strategy NOT LIKE 'convert_to_tele%' THEN 'deAdopt'\n",
    "    ELSE 'none'\n",
    "  END AS mitigation_type,\n",
    "  COUNT(distinct a.attendkey) AS activity\n",
    "FROM\n",
    "  nhp.raw_data.opa a\n",
    "LEFT JOIN\n",
    "  nhp.raw_data.opa_mitigators b\n",
    "  ON a.attendkey = b.attendkey AND a.provider = b.provider AND a.fyear = b.fyear\n",
    "WHERE\n",
    "  a.fyear = 201920\n",
    "GROUP BY\n",
    "  a.fyear, \n",
    "  a.age, \n",
    "  a.sex,\n",
    "  a.type,\n",
    "  a.imd_quintile,\n",
    "  a.resgor_ons,\n",
    "  CASE\n",
    "    WHEN isnotnull(b.strategy) AND b.strategy NOT LIKE 'convert_to_tele%' THEN 'deAdopt'\n",
    "    ELSE 'none'\n",
    "  END;"
   ]
  },
  {
   "cell_type": "markdown",
   "metadata": {
    "application/vnd.databricks.v1+cell": {
     "cellMetadata": {},
     "inputWidgets": {},
     "nuid": "7f9f8562-695a-40e9-9fd7-0a175798f212",
     "showTitle": false,
     "tableResultSettingsMap": {},
     "title": ""
    }
   },
   "source": [
    "## A&E activity"
   ]
  },
  {
   "cell_type": "markdown",
   "metadata": {
    "application/vnd.databricks.v1+cell": {
     "cellMetadata": {},
     "inputWidgets": {},
     "nuid": "c7fba5c5-2932-4c5f-b62b-97de74fda514",
     "showTitle": false,
     "tableResultSettingsMap": {},
     "title": ""
    }
   },
   "source": [
    "### Categorising the mitigators for ED \n",
    "\n",
    "The aea mitigators are all redirection and substitution, so we can quite simply deal with that in the script.\n",
    "\n",
    "We do need to deal with arrivals with appear more than once in the mitigators data. This can be done by counting distinct on `aekey`."
   ]
  },
  {
   "cell_type": "code",
   "execution_count": 0,
   "metadata": {
    "application/vnd.databricks.v1+cell": {
     "cellMetadata": {
      "byteLimit": 2048000,
      "implicitDf": true,
      "rowLimit": 10000
     },
     "inputWidgets": {},
     "nuid": "ad720cd8-bc6c-4657-a877-da889ac4a7a9",
     "showTitle": false,
     "tableResultSettingsMap": {},
     "title": ""
    }
   },
   "outputs": [],
   "source": [
    "%sql\n",
    "describe nhp.raw_data.ecds"
   ]
  },
  {
   "cell_type": "code",
   "execution_count": 0,
   "metadata": {
    "application/vnd.databricks.v1+cell": {
     "cellMetadata": {
      "byteLimit": 2048000,
      "implicitDf": true,
      "rowLimit": 10000
     },
     "inputWidgets": {},
     "nuid": "eb5c2c52-4616-47f4-90b1-dda5b58f9190",
     "showTitle": false,
     "tableResultSettingsMap": {},
     "title": ""
    }
   },
   "outputs": [],
   "source": [
    "%sql\n",
    "\n",
    "CREATE VIEW aea_mitigators_data AS\n",
    "\n",
    "SELECT\n",
    "  ecds.key,\n",
    "  concat('frequent_attenders_', ecds.type) strategy\n",
    "FROM\n",
    "  nhp.raw_data.ecds ecds\n",
    "WHERE\n",
    "  ecds.is_frequent_attender = 1\n",
    "\n",
    "UNION ALL\n",
    "\n",
    "SELECT\n",
    "  ecds.key,\n",
    "  concat('left_before_seen_', ecds.type) strategy\n",
    "FROM\n",
    "  nhp.raw_data.ecds ecds\n",
    "WHERE\n",
    "  ecds.is_left_before_treatment = 1\n",
    "\n",
    "UNION ALL\n",
    "\n",
    "SELECT\n",
    "  ecds.key,\n",
    "  concat('low_cost_discharged_', ecds.type) strategy\n",
    "FROM\n",
    "  nhp.raw_data.ecds ecds\n",
    "WHERE\n",
    "  ecds.is_low_cost_referred_or_discharged = 1\n",
    "\n",
    "UNION ALL\n",
    "\n",
    "SELECT\n",
    "  ecds.key,\n",
    "  concat('discharged_no_treatment_', ecds.type) strategy\n",
    "FROM\n",
    "  nhp.raw_data.ecds ecds\n",
    "WHERE\n",
    "  ecds.is_discharged_no_treatment = 1"
   ]
  },
  {
   "cell_type": "markdown",
   "metadata": {
    "application/vnd.databricks.v1+cell": {
     "cellMetadata": {},
     "inputWidgets": {},
     "nuid": "e95309a8-38b5-4eb2-a22f-32c3674be50c",
     "showTitle": false,
     "tableResultSettingsMap": {},
     "title": ""
    }
   },
   "source": [
    "### Extracting the ED data"
   ]
  },
  {
   "cell_type": "code",
   "execution_count": 0,
   "metadata": {
    "application/vnd.databricks.v1+cell": {
     "cellMetadata": {
      "byteLimit": 2048000,
      "implicitDf": true,
      "rowLimit": 10000
     },
     "inputWidgets": {},
     "nuid": "d0db2129-5be9-495d-b25e-113c32f98ce2",
     "showTitle": false,
     "tableResultSettingsMap": {
      "0": {
       "dataGridStateBlob": null,
       "filterBlob": "{\"filterGroups\":[],\"syncTimestamp\":1741879711101}",
       "queryPlanFiltersBlob": null,
       "tableResultIndex": 0
      }
     },
     "title": ""
    }
   },
   "outputs": [],
   "source": [
    "%sql\n",
    "SELECT \n",
    "  'aae' AS pod, \n",
    "  a.fyear, \n",
    "  a.age, \n",
    "  a.sex, \n",
    "  a.group,\n",
    "  a.imd_quintile,\n",
    "  a.resgor_ons, \n",
    "  CASE\n",
    "    WHEN EXISTS(SELECT 1 FROM aea_mitigators_data WHERE key = a.key) THEN 'reSu'\n",
    "    ELSE 'none'\n",
    "  END AS mitigation_type,\n",
    "  COUNT(DISTINCT a.key) AS activity\n",
    "FROM\n",
    "  nhp.raw_data.ecds a\n",
    "WHERE\n",
    "  fyear BETWEEN 201112 AND 201920\n",
    "  AND aedepttype = '01'\n",
    "GROUP BY\n",
    "  a.fyear, \n",
    "  a.age, \n",
    "  a.sex, \n",
    "  a.group,\n",
    "  a.imd_quintile,\n",
    "  a.resgor_ons,\n",
    "  CASE\n",
    "    WHEN EXISTS(SELECT 1 FROM aea_mitigators_data WHERE key = a.key) THEN 'reSu'\n",
    "    ELSE 'none'\n",
    "  END;"
   ]
  },
  {
   "cell_type": "markdown",
   "metadata": {
    "application/vnd.databricks.v1+cell": {
     "cellMetadata": {},
     "inputWidgets": {},
     "nuid": "16aaa3f7-5186-4cff-89aa-b8e32fb002fb",
     "showTitle": false,
     "tableResultSettingsMap": {},
     "title": ""
    }
   },
   "source": [
    "#### New SQL query for region in 201920 "
   ]
  },
  {
   "cell_type": "code",
   "execution_count": 0,
   "metadata": {
    "application/vnd.databricks.v1+cell": {
     "cellMetadata": {
      "byteLimit": 2048000,
      "implicitDf": true,
      "rowLimit": 10000
     },
     "inputWidgets": {},
     "nuid": "14c33306-7bae-4140-bb62-722280cf062d",
     "showTitle": false,
     "tableResultSettingsMap": {
      "0": {
       "dataGridStateBlob": null,
       "filterBlob": "{\"filterGroups\":[],\"syncTimestamp\":1743782781434}",
       "queryPlanFiltersBlob": null,
       "tableResultIndex": 0
      }
     },
     "title": ""
    }
   },
   "outputs": [],
   "source": [
    "%sql\n",
    "-- Let local_authority_to_region_lookup be a table that we have loaded in. \n",
    "-- We might need to substitute this at some point depending on how loading imported tables works.\n",
    "SELECT \n",
    "  'aae' AS pod, \n",
    "  a.fyear, \n",
    "  a.age, \n",
    "  a.sex, \n",
    "  a.group,\n",
    "  a.imd_quintile,\n",
    "  CASE\n",
    "    WHEN a.fyear < 201920 THEN a.resgor_ons\n",
    "    ELSE b.RGN19CD\n",
    "  END AS resgor_ons,\n",
    "  CASE\n",
    "    WHEN EXISTS(SELECT 1 FROM aea_mitigators_data WHERE key = a.key) THEN 'reSu'\n",
    "    ELSE 'none'\n",
    "  END AS mitigation_type,\n",
    "  COUNT(DISTINCT a.key) AS activity\n",
    "FROM\n",
    "  nhp.raw_data.ecds a\n",
    "LEFT JOIN\n",
    "  strategyunit.default.lad_19_rgn_19_en_lu_948748_b_0_eaa_54_fe_888_a_604_b_126_f_5_e_672_4818463568216355194 b\n",
    "  ON a.resladst_ons = b.LAD19CD\n",
    "WHERE\n",
    "  fyear BETWEEN 201112 AND 201920\n",
    "  AND aedepttype = '01'\n",
    "GROUP BY\n",
    "  a.fyear, \n",
    "  a.age, \n",
    "  a.sex, \n",
    "  a.group,\n",
    "  a.imd_quintile,\n",
    "  CASE\n",
    "    WHEN a.fyear < 201920 THEN a.resgor_ons\n",
    "    ELSE b.RGN19CD\n",
    "  END,\n",
    "  CASE\n",
    "    WHEN EXISTS(SELECT 1 FROM aea_mitigators_data WHERE key = a.key) THEN 'reSu'\n",
    "    ELSE 'none'\n",
    "  END;"
   ]
  },
  {
   "cell_type": "markdown",
   "metadata": {
    "application/vnd.databricks.v1+cell": {
     "cellMetadata": {},
     "inputWidgets": {},
     "nuid": "a67b044f-eff8-46ee-8982-254bc5657b52",
     "showTitle": false,
     "tableResultSettingsMap": {},
     "title": ""
    }
   },
   "source": [
    "## Table showing strategies in base year and final year by pod"
   ]
  },
  {
   "cell_type": "code",
   "execution_count": 0,
   "metadata": {
    "application/vnd.databricks.v1+cell": {
     "cellMetadata": {
      "byteLimit": 2048000,
      "implicitDf": true,
      "rowLimit": 10000
     },
     "inputWidgets": {},
     "nuid": "bc44be50-582a-448e-9557-a49b46b36764",
     "showTitle": false,
     "tableResultSettingsMap": {
      "0": {
       "dataGridStateBlob": null,
       "filterBlob": "{\"filterGroups\":[],\"syncTimestamp\":1744795224251}",
       "queryPlanFiltersBlob": null,
       "tableResultIndex": 0
      }
     },
     "title": ""
    }
   },
   "outputs": [],
   "source": [
    "%sql \n",
    "SELECT\n",
    "  a.fyear,\n",
    "  CASE \n",
    "    WHEN a.group = \"elective\" THEN \"IpElec\"\n",
    "    WHEN a.group = \"maternity\" THEN \"IpMat\"\n",
    "    ELSE \"IpEmer\"\n",
    "  END AS pod,\n",
    "  CASE \n",
    "    WHEN b.mitigation_type IS NULL THEN 'none'\n",
    "    ELSE b.mitigation_type\n",
    "  END AS mitigation_type,\n",
    "  CASE \n",
    "    WHEN b.mitigation_type IS NULL OR b.mitigation_type = \"none\" THEN \"none\"\n",
    "    ELSE b.strategy\n",
    "  END AS strategy,\n",
    "  COUNT(a.epikey) AS activity  \n",
    " FROM nhp.raw_data.apc a\n",
    " LEFT JOIN \n",
    "  activity_mitigation_table b\n",
    "  ON a.epikey = b.epikey\n",
    "WHERE a.fyear in (201112,201920)\n",
    "GROUP BY\n",
    "  a.fyear,\n",
    "  CASE \n",
    "    WHEN a.group = \"elective\" THEN \"IpElec\"\n",
    "    WHEN a.group = \"maternity\" THEN \"IpMat\"\n",
    "    ELSE \"IpEmer\"\n",
    "  END, \n",
    "  CASE \n",
    "    WHEN b.mitigation_type IS NULL THEN 'none'\n",
    "    ELSE b.mitigation_type\n",
    "  END,\n",
    "  CASE \n",
    "    WHEN b.mitigation_type IS NULL OR b.mitigation_type = \"none\" THEN \"none\"\n",
    "    ELSE b.strategy\n",
    "  END\n",
    "UNION ALL\n",
    "SELECT \n",
    "  a.fyear,\n",
    "  'opAtt' as pod,\n",
    "  CASE \n",
    "    WHEN b.strategy IS NULL OR b.strategy LIKE 'convert_to_tele%' THEN 'none'\n",
    "    ELSE  'deAdopt'\n",
    "  END AS mitigation_type,\n",
    "  CASE \n",
    "    WHEN b.strategy IS NULL OR b.strategy LIKE 'convert_to_tele%' THEN 'none'\n",
    "    ELSE  b.strategy\n",
    "  END AS strategy,\n",
    "  count(distinct(a.attendkey)) AS activity \n",
    "FROM nhp.raw_data.opa a\n",
    "LEFT JOIN nhp.raw_data.opa_mitigators b\n",
    "  ON a.attendkey = b.attendkey AND a.provider = b.provider AND a.fyear = b.fyear\n",
    "WHERE\n",
    "  a.fyear in (201112, 201920)\n",
    "GROUP BY\n",
    "  a.fyear,\n",
    "  CASE \n",
    "    WHEN b.strategy IS NULL OR b.strategy LIKE 'convert_to_tele%' THEN 'none'\n",
    "    ELSE  'deAdopt'\n",
    "  END,\n",
    "  CASE \n",
    "    WHEN b.strategy IS NULL OR b.strategy LIKE 'convert_to_tele%' THEN 'none'\n",
    "    ELSE  b.strategy\n",
    "  END\n",
    "UNION ALL\n",
    "SELECT \n",
    "  a.fyear,\n",
    "  'edAtt' as pod,\n",
    "  CASE \n",
    "    WHEN b.strategy IS NULL THEN 'none'\n",
    "    ELSE  'reSu'\n",
    "  END AS mitigation_type,\n",
    "  CASE \n",
    "    WHEN b.strategy IS NULL THEN 'none'\n",
    "    ELSE  b.strategy\n",
    "  END AS strategy,\n",
    "  count(distinct(a.key)) AS activity\n",
    "FROM nhp.raw_data.ecds a\n",
    "LEFT JOIN aea_mitigators_data b\n",
    "  ON a.key = b.key\n",
    "WHERE\n",
    "  a.fyear in (201112, 201920) AND a.aedepttype = '01'\n",
    "GROUP BY\n",
    "  a.fyear,\n",
    "  CASE \n",
    "    WHEN b.strategy IS NULL THEN 'none'\n",
    "    ELSE  'reSu'\n",
    "  END,\n",
    "  CASE \n",
    "    WHEN b.strategy IS NULL THEN 'none'\n",
    "    ELSE  b.strategy\n",
    "  END;"
   ]
  },
  {
   "cell_type": "markdown",
   "metadata": {
    "application/vnd.databricks.v1+cell": {
     "cellMetadata": {},
     "inputWidgets": {},
     "nuid": "2ccca7f3-799f-465a-ba93-275bb39fe439",
     "showTitle": false,
     "tableResultSettingsMap": {},
     "title": ""
    }
   },
   "source": [
    "### Issue with inpatient mitigation counts not matching\n",
    "The totals for each pod match the rest of the figures but they are very slightly different in how the numbers are apportioned. This is probably to do with the way that NULLs are dealt with.\n",
    "\n",
    "However, when looking at the discrepancies three chunks below, there are only three inpatient avoidance mitigators where there is a discrepancy but these are the ones we specifically did not cover and as such shouldn't matter:\n",
    "\n",
    "virtual_wards_activity_avoidance_heart_failure\n",
    "cancelled_operations\n",
    "virtual_wards_activity_avoidance_ari\n"
   ]
  },
  {
   "cell_type": "code",
   "execution_count": 0,
   "metadata": {
    "application/vnd.databricks.v1+cell": {
     "cellMetadata": {
      "byteLimit": 2048000,
      "implicitDf": true,
      "rowLimit": 10000
     },
     "inputWidgets": {},
     "nuid": "dcafcd49-ec25-4b57-923d-6d305334c6ef",
     "showTitle": false,
     "tableResultSettingsMap": {
      "0": {
       "dataGridStateBlob": null,
       "filterBlob": "{\"filterGroups\":[{\"enabled\":true,\"op\":\"OR\",\"filterGroupId\":\"fg_b4401c1e\",\"filters\":[{\"filterId\":\"f_898e828e\",\"columnId\":\"pod\",\"enabled\":true,\"dataType\":\"string\",\"filterType\":\"eqn\",\"filterValue\":\"maternity\",\"filterConfig\":{\"caseSensitive\":true}}],\"local\":false,\"updatedAt\":1744900206160}],\"syncTimestamp\":1744901353765}",
       "queryPlanFiltersBlob": null,
       "tableResultIndex": 0
      }
     },
     "title": ""
    }
   },
   "outputs": [],
   "source": [
    "%sql\n",
    "-- Aim here is to just the counts of mitigation each year and just confirm that elective de-adoption is indeed rising the fastest\n",
    "SELECT\n",
    "  'converting_nulls'  as sql_script,\n",
    "  a.group AS pod,\n",
    "  CASE\n",
    "    WHEN b.mitigation_type IS NULL THEN 'none'\n",
    "    ELSE b.mitigation_type\n",
    "  END AS mitigation_type,\n",
    "CASE \n",
    "    WHEN b.mitigation_type IS NULL OR b.mitigation_type = \"none\" THEN \"none\"\n",
    "    ELSE b.strategy\n",
    "  END AS strategy,\n",
    "  COUNT(a.epikey) AS activity  \n",
    "FROM nhp.raw_data.apc a \n",
    "LEFT JOIN \n",
    "  activity_mitigation_table b\n",
    "  ON a.epikey = b.epikey\n",
    "WHERE a.fyear = 201112\n",
    "GROUP BY\n",
    "  a.group,\n",
    "  CASE\n",
    "    WHEN isnull(b.mitigation_type) THEN 'none'\n",
    "    ELSE b.mitigation_type\n",
    "  END,\n",
    "CASE \n",
    "    WHEN b.mitigation_type IS NULL OR b.mitigation_type = \"none\" THEN \"none\"\n",
    "    ELSE b.strategy\n",
    "  END\n",
    "UNION ALL\n",
    "SELECT\n",
    "  'no changes' as sql_script,\n",
    "  a.group AS pod,\n",
    "  b.mitigation_type,\n",
    "  b.strategy,\n",
    "  COUNT(a.epikey) AS activity  \n",
    " FROM nhp.raw_data.apc a\n",
    " LEFT JOIN \n",
    "  activity_mitigation_table b\n",
    "  ON a.epikey = b.epikey\n",
    "WHERE a.fyear = 201112\n",
    "GROUP BY\n",
    "  a.group,\n",
    "  b.mitigation_type,\n",
    "  b.strategy;\n"
   ]
  },
  {
   "cell_type": "code",
   "execution_count": 0,
   "metadata": {
    "application/vnd.databricks.v1+cell": {
     "cellMetadata": {
      "byteLimit": 2048000,
      "implicitDf": true,
      "rowLimit": 10000
     },
     "inputWidgets": {},
     "nuid": "ab4b95c8-99e6-4919-ad4b-fb6770fb0131",
     "showTitle": false,
     "tableResultSettingsMap": {},
     "title": ""
    }
   },
   "outputs": [],
   "source": [
    "%sql\n",
    "CREATE TEMPORARY VIEW inpatient_mitig_QA as\n",
    "select \n",
    "  *,\n",
    "  CASE\n",
    "    WHEN mitigation_type is null THEN 'none'\n",
    "    ELSE mitigation_type\n",
    "  END AS mitigation_type_1,\n",
    "CASE \n",
    "    WHEN mitigation_type IS NULL OR mitigation_type = \"none\" THEN \"none\"\n",
    "    ELSE strategy\n",
    "  END AS strategy_1\n",
    " from activity_mitigation_table"
   ]
  },
  {
   "cell_type": "code",
   "execution_count": 0,
   "metadata": {
    "application/vnd.databricks.v1+cell": {
     "cellMetadata": {
      "byteLimit": 2048000,
      "implicitDf": true,
      "rowLimit": 10000
     },
     "inputWidgets": {},
     "nuid": "392aec23-9465-46c0-9573-0ab7488d9407",
     "showTitle": false,
     "tableResultSettingsMap": {},
     "title": ""
    }
   },
   "outputs": [],
   "source": [
    "%sql\n",
    "SELECT distinct type, strategy, mitigation_type, mitigation_type_1, strategy_1 FROM inpatient_mitig_QA WHERE strategy <> strategy_1;"
   ]
  },
  {
   "cell_type": "markdown",
   "metadata": {
    "application/vnd.databricks.v1+cell": {
     "cellMetadata": {},
     "inputWidgets": {},
     "nuid": "78edfbc4-cfe5-4779-b394-ef2237dc4e23",
     "showTitle": false,
     "tableResultSettingsMap": {},
     "title": ""
    }
   },
   "source": [
    "### Inpatient - without preserving the hierachy of mitigators\n",
    "\n",
    "For this one we actually want to show the counts without the hierachy imposed. This means that the counts for each strategy within a mitigation class (reSu, deAdopt, prev) will NOT sum to the total for the mitigation class, given that admissions might fall in scope of more than one mitigator. "
   ]
  },
  {
   "cell_type": "code",
   "execution_count": 0,
   "metadata": {
    "application/vnd.databricks.v1+cell": {
     "cellMetadata": {
      "byteLimit": 2048000,
      "implicitDf": true,
      "rowLimit": 10000
     },
     "inputWidgets": {},
     "nuid": "91736731-1339-4adc-9a58-8d2cb4f8c48b",
     "showTitle": false,
     "tableResultSettingsMap": {},
     "title": ""
    }
   },
   "outputs": [],
   "source": [
    "%sql\n",
    "CREATE VIEW sampled_data AS\n",
    "  SELECT\n",
    "      epikey,\n",
    "      sample_rate,\n",
    "      type,\n",
    "      strategy,\n",
    "      CASE\n",
    "          WHEN strategy IN (\n",
    "              'alcohol_partially_attributable_acute', 'alcohol_partially_attributable_chronic', 'alcohol_wholly_attributable','falls_related_admissions',\n",
    "              'obesity_related_admissions', 'smoking') THEN 'prev'\n",
    "          WHEN strategy IN (\n",
    "              'evidence_based_interventions_ent', 'evidence_based_interventions_general_surgery','evidence_based_interventions_gi_surgical',\n",
    "              'evidence_based_interventions_msk', 'evidence_based_interventions_urology','evidence_based_interventions_vascular_varicose_veins') THEN 'deAdopt'\n",
    "          WHEN strategy IN (\n",
    "              'ambulatory_care_conditions_acute', 'ambulatory_care_conditions_chronic','ambulatory_care_conditions_vaccine_preventable',\n",
    "              'eol_care_2_days', 'eol_care_3_to_14_days', 'frail_elderly_high', 'frail_elderly_intermediate','intentional_self_harm',\n",
    "              'medically_unexplained_related_admissions', 'medicines_related_admissions_explicit','medicines_related_admissions_implicit_anti-diabetics',\n",
    "              'medicines_related_admissions_implicit_benzodiasepines', 'medicines_related_admissions_implicit_diurectics',\n",
    "              'medicines_related_admissions_implicit_nsaids', 'raid_ae', 'readmission_within_28_days','zero_los_no_procedure_adult',\n",
    "              'zero_los_no_procedure_child') THEN 'reSu'\n",
    "          ELSE 'none'\n",
    "      END AS mitigation_type\n",
    "  FROM nhp.raw_data.apc_mitigators\n",
    "  WHERE sample_rate >= RAND()"
   ]
  },
  {
   "cell_type": "code",
   "execution_count": 0,
   "metadata": {
    "application/vnd.databricks.v1+cell": {
     "cellMetadata": {
      "byteLimit": 2048000,
      "implicitDf": true,
      "rowLimit": 10000
     },
     "inputWidgets": {},
     "nuid": "6b26a8b3-3093-4e76-81eb-6f834a579431",
     "showTitle": false,
     "tableResultSettingsMap": {},
     "title": ""
    }
   },
   "outputs": [],
   "source": [
    "%sql\n",
    "select * from sampled_data;"
   ]
  },
  {
   "cell_type": "code",
   "execution_count": 0,
   "metadata": {
    "application/vnd.databricks.v1+cell": {
     "cellMetadata": {
      "byteLimit": 2048000,
      "implicitDf": true,
      "rowLimit": 10000
     },
     "inputWidgets": {},
     "nuid": "27d9fca8-6087-4213-a670-760fc997a758",
     "showTitle": false,
     "tableResultSettingsMap": {},
     "title": ""
    }
   },
   "outputs": [],
   "source": [
    "%sql\n",
    "SELECT\n",
    "  a.fyear,\n",
    "  CASE \n",
    "    WHEN a.group = \"elective\" THEN \"IpElec\"\n",
    "    WHEN a.group = \"maternity\" THEN \"IpMat\"\n",
    "    ELSE \"IpEmer\"\n",
    "  END AS pod,\n",
    "  CASE \n",
    "    WHEN b.mitigation_type IS NULL THEN 'none'\n",
    "    ELSE b.mitigation_type\n",
    "  END AS mitigation_type,\n",
    "  CASE \n",
    "    WHEN b.mitigation_type IS NULL OR b.mitigation_type = \"none\" THEN \"none\"\n",
    "    ELSE b.strategy\n",
    "  END AS strategy,\n",
    "  COUNT(a.epikey) AS activity  \n",
    " FROM nhp.raw_data.apc a\n",
    " LEFT JOIN \n",
    "  sampled_data b\n",
    "  ON a.epikey = b.epikey\n",
    "WHERE a.fyear in (201112,201920)\n",
    "GROUP BY\n",
    "  a.fyear,\n",
    "  CASE \n",
    "    WHEN a.group = \"elective\" THEN \"IpElec\"\n",
    "    WHEN a.group = \"maternity\" THEN \"IpMat\"\n",
    "    ELSE \"IpEmer\"\n",
    "  END, \n",
    "  CASE \n",
    "    WHEN b.mitigation_type IS NULL THEN 'none'\n",
    "    ELSE b.mitigation_type\n",
    "  END,\n",
    "  CASE \n",
    "    WHEN b.mitigation_type IS NULL OR b.mitigation_type = \"none\" THEN \"none\"\n",
    "    ELSE b.strategy\n",
    "  END \n",
    "UNION ALL\n",
    "SELECT \n",
    "  a.fyear, \n",
    "  CASE \n",
    "    WHEN a.group = \"elective\" THEN \"IpElec\"\n",
    "    WHEN a.group = \"maternity\" THEN \"IpMat\"\n",
    "    ELSE \"IpEmer\"\n",
    "  END,\n",
    "  'TOTAL' AS mitigation_type,\n",
    "  'TOTAL' AS strategy,\n",
    "  COUNT(a.epikey) AS activity\n",
    "FROM nhp.raw_data.apc a\n",
    "LEFT JOIN sampled_data b\n",
    "ON a.epikey = b.epikey\n",
    "WHERE a.fyear in (201112,201920)\n",
    "GROUP BY\n",
    "  a.fyear,\n",
    "  CASE \n",
    "    WHEN a.group = \"elective\" THEN \"IpElec\"\n",
    "    WHEN a.group = \"maternity\" THEN \"IpMat\"\n",
    "    ELSE \"IpEmer\"\n",
    "  END;\n"
   ]
  },
  {
   "cell_type": "markdown",
   "metadata": {
    "application/vnd.databricks.v1+cell": {
     "cellMetadata": {},
     "inputWidgets": {},
     "nuid": "53e4dfcd-adfe-40e1-8218-bfc1cb2e7941",
     "showTitle": false,
     "tableResultSettingsMap": {},
     "title": ""
    }
   },
   "source": [
    "### Issue with double counting of opa and aae mitigators\n",
    "\n",
    "The counts of non-mitig are identical to the rest of the analysis. However, the mitig data is much higher which is because of there being attendances which appear in more than one strategy.\n",
    "\n",
    "The below query groups the aae mitig data so that the four variants adult/child ambulance/walk-in are amalgamated."
   ]
  },
  {
   "cell_type": "code",
   "execution_count": 0,
   "metadata": {
    "application/vnd.databricks.v1+cell": {
     "cellMetadata": {
      "byteLimit": 2048000,
      "implicitDf": true,
      "rowLimit": 10000
     },
     "inputWidgets": {},
     "nuid": "c075018f-fd02-4f53-afbc-5ea6b73e8427",
     "showTitle": false,
     "tableResultSettingsMap": {},
     "title": ""
    }
   },
   "outputs": [],
   "source": [
    "%sql\n",
    "CREATE OR REPLACE TEMPORARY VIEW aea_mitig_strategies_grouped AS \n",
    "SELECT \n",
    "  *, \n",
    "  REGEXP_REPLACE(strategy, '_(child|adult)_(walk-in|ambulance)$', '') AS stem_strategy \n",
    "FROM \n",
    "  aea_mitigators_data\n",
    "WHERE \n",
    "  strategy LIKE '%_walk-in' OR strategy LIKE '%_ambulance';\n",
    "\n",
    "-- Then:\n",
    "--SELECT * \n",
    "--FROM aea_mitig_strategies_grouped\n",
    "--WHERE (key, stem_strategy) IN (\n",
    "--  SELECT key, stem_strategy\n",
    "--  FROM aea_mitig_strategies_grouped\n",
    "--  GROUP BY key, stem_strategy\n",
    "--  HAVING COUNT(*) > 1\n",
    "--)\n",
    "--ORDER BY key;\n",
    "\n",
    "select * from aea_mitig_strategies_grouped order by key"
   ]
  },
  {
   "cell_type": "markdown",
   "metadata": {
    "application/vnd.databricks.v1+cell": {
     "cellMetadata": {},
     "inputWidgets": {},
     "nuid": "652a6924-1699-4e69-b8c9-072ae72bfb11",
     "showTitle": false,
     "tableResultSettingsMap": {},
     "title": ""
    }
   },
   "source": [
    "## Previous SQL queries on Strategy Unit Server\n",
    "\n",
    "We have the following three scripts for categorising strategies from the previous analysis\n",
    "\n"
   ]
  },
  {
   "cell_type": "markdown",
   "metadata": {
    "application/vnd.databricks.v1+cell": {
     "cellMetadata": {},
     "inputWidgets": {},
     "nuid": "bc4f6756-dc53-403c-b9e8-e3cf79430c18",
     "showTitle": false,
     "tableResultSettingsMap": {},
     "title": ""
    }
   },
   "source": [
    "### in-patient prevention\n",
    "\n",
    "```sql\n",
    "use StrategicWorking\n",
    "\n",
    "--drop table dbo.sw_ip_mitigatable_prevention\n",
    "\n",
    "\n",
    "select EPIKEY, fyear\n",
    "\n",
    "into dbo.sw_ip_mitigatable_prevention\n",
    "\n",
    "from [HESData].[nhp_strategies].[ip_alcohol_partially_attributable] \n",
    "where fraction >= RAND(CHECKSUM(NewId()))\n",
    "\n",
    "union\n",
    "\n",
    "\n",
    "select EPIKEY, fyear\n",
    "from [HESData].[nhp_strategies].[ip_alcohol_wholly_attributable]\n",
    "where fraction >= RAND(CHECKSUM(NewId()))\n",
    "\n",
    "\n",
    "union\n",
    "\n",
    "\n",
    "select EPIKEY, fyear\n",
    "from [HESData].[nhp_strategies].[ip_falls_related_admissions]\n",
    "where fraction >= RAND(CHECKSUM(NewId()))\n",
    "\n",
    "union\n",
    "\n",
    "\n",
    "select EPIKEY, fyear\n",
    "from [HESData].[nhp_strategies].[ip_obesity_related_admissions]\n",
    "where fraction >= RAND(CHECKSUM(NewId()))\n",
    "\n",
    "union\n",
    "\n",
    "\n",
    "select EPIKEY, fyear\n",
    "from [HESData].[nhp_strategies].[ip_smoking]\n",
    "where fraction >= RAND(CHECKSUM(NewId()))\n",
    "\n",
    "```"
   ]
  },
  {
   "cell_type": "markdown",
   "metadata": {
    "application/vnd.databricks.v1+cell": {
     "cellMetadata": {},
     "inputWidgets": {},
     "nuid": "6afb3038-7cd3-4d75-a6fe-cbf6ea07692b",
     "showTitle": false,
     "tableResultSettingsMap": {},
     "title": ""
    }
   },
   "source": [
    "### in-patient re-direction and substitution\n",
    "\n",
    "```sql\n",
    "use StrategicWorking\n",
    "\n",
    "--drop table dbo.sw_ip_mitigatable_redirect_substitute\n",
    "\n",
    "\n",
    "select EPIKEY, fyear\n",
    "\n",
    "into dbo.sw_ip_mitigatable_redirect_substitute\n",
    "\n",
    "from [HESData].[nhp_strategies].[ip_ambulatory_care_conditions_acute]\n",
    "where fraction >= RAND(CHECKSUM(NewId()))\n",
    "\n",
    "union\n",
    "\n",
    "\n",
    "select EPIKEY, fyear\n",
    "from [HESData].[nhp_strategies].[ip_ambulatory_care_conditions_chronic]\n",
    "where fraction >= RAND(CHECKSUM(NewId()))\n",
    "\n",
    "\n",
    "union\n",
    "\n",
    "\n",
    "select EPIKEY, fyear\n",
    "from [HESData].[nhp_strategies].[ip_ambulatory_care_conditions_vaccine_preventable]\n",
    "where fraction >= RAND(CHECKSUM(NewId()))\n",
    "\n",
    "union\n",
    "\n",
    "\n",
    "select EPIKEY, fyear\n",
    "from [HESData].[nhp_strategies].[ip_eol_care]\n",
    "where fraction >= RAND(CHECKSUM(NewId()))\n",
    "\n",
    "union\n",
    "\n",
    "\n",
    "select EPIKEY, fyear\n",
    "from [HESData].[nhp_strategies].[ip_frail_elderly]\n",
    "where fraction >= RAND(CHECKSUM(NewId()))\n",
    "\n",
    "union\n",
    "\n",
    "\n",
    "select EPIKEY, fyear\n",
    "from [HESData].[nhp_strategies].[ip_intentional_self_harm]\n",
    "where fraction >= RAND(CHECKSUM(NewId()))\n",
    "\n",
    "union\n",
    "\n",
    "\n",
    "select EPIKEY, fyear\n",
    "from [HESData].[nhp_strategies].[ip_medically_unexplained_related_admissions]\n",
    "where fraction >= RAND(CHECKSUM(NewId()))\n",
    "\n",
    "\n",
    "union\n",
    "\n",
    "\n",
    "select EPIKEY, fyear\n",
    "from [HESData].[nhp_strategies].[ip_medicines_related_admissions_explicit]\n",
    "where fraction >= RAND(CHECKSUM(NewId()))\n",
    "\n",
    "union\n",
    "\n",
    "\n",
    "select EPIKEY, fyear\n",
    "from [HESData].[nhp_strategies].[ip_medicines_related_admissions_implicit_anti_diabetics]\n",
    "where fraction >= RAND(CHECKSUM(NewId()))\n",
    "\n",
    "union\n",
    "\n",
    "\n",
    "select EPIKEY, fyear\n",
    "from [HESData].[nhp_strategies].[ip_medicines_related_admissions_implicit_benzodiasepines]\n",
    "where fraction >= RAND(CHECKSUM(NewId()))\n",
    "\n",
    "union\n",
    "\n",
    "\n",
    "select EPIKEY, fyear\n",
    "from [HESData].[nhp_strategies].[ip_medicines_related_admissions_implicit_diurectics]\n",
    "where fraction >= RAND(CHECKSUM(NewId()))\n",
    "\n",
    "\n",
    "union\n",
    "\n",
    "\n",
    "select EPIKEY, fyear\n",
    "from [HESData].[nhp_strategies].[ip_medicines_related_admissions_implicit_nsaids]\n",
    "where fraction >= RAND(CHECKSUM(NewId()))\n",
    "\n",
    "\n",
    "union\n",
    "\n",
    "\n",
    "select EPIKEY, fyear\n",
    "from [HESData].[nhp_strategies].[ip_raid_ae]\n",
    "where fraction >= RAND(CHECKSUM(NewId()))\n",
    "\n",
    "union\n",
    "\n",
    "\n",
    "select EPIKEY, fyear\n",
    "from [HESData].[nhp_strategies].[ip_readmission_within_28_days]\n",
    "where fraction >= RAND(CHECKSUM(NewId()))\n",
    "\n",
    "union\n",
    "\n",
    "\n",
    "select EPIKEY, fyear\n",
    "from [HESData].[nhp_strategies].[ip_zero_los_no_procedure]\n",
    "where fraction >= RAND(CHECKSUM(NewId()))\n",
    "```\n",
    "\n"
   ]
  },
  {
   "cell_type": "markdown",
   "metadata": {
    "application/vnd.databricks.v1+cell": {
     "cellMetadata": {},
     "inputWidgets": {},
     "nuid": "df4bb3b7-7795-482c-be8d-7b74ef3e7706",
     "showTitle": false,
     "tableResultSettingsMap": {},
     "title": ""
    }
   },
   "source": [
    "### in-patient de-adoption\n",
    "\n",
    "```sql\n",
    "use StrategicWorking\n",
    "\n",
    "--drop table dbo.sw_ip_mitigatable_rationing\n",
    "\n",
    "\n",
    "select EPIKEY, fyear\n",
    "\n",
    "into dbo.sw_ip_mitigatable_rationing\n",
    "\n",
    "from [HESData].[nhp_strategies].[ip_evidence_based_interventions_ent]\n",
    "where fraction >= RAND(CHECKSUM(NewId()))\n",
    "\n",
    "union\n",
    "\n",
    "\n",
    "select EPIKEY, fyear\n",
    "from [HESData].[nhp_strategies].[ip_evidence_based_interventions_general_surgery]\n",
    "where fraction >= RAND(CHECKSUM(NewId()))\n",
    "\n",
    "\n",
    "union\n",
    "\n",
    "\n",
    "select EPIKEY, fyear\n",
    "from [HESData].[nhp_strategies].[ip_evidence_based_interventions_gi_surgical]\n",
    "where fraction >= RAND(CHECKSUM(NewId()))\n",
    "\n",
    "union\n",
    "\n",
    "\n",
    "select EPIKEY, fyear\n",
    "from [HESData].[nhp_strategies].[ip_evidence_based_interventions_msk]\n",
    "where fraction >= RAND(CHECKSUM(NewId()))\n",
    "\n",
    "union\n",
    "\n",
    "\n",
    "select EPIKEY, fyear\n",
    "from [HESData].[nhp_strategies].[ip_evidence_based_interventions_urology]\n",
    "where fraction >= RAND(CHECKSUM(NewId()))\n",
    "\n",
    "union\n",
    "\n",
    "\n",
    "select EPIKEY, fyear\n",
    "from [HESData].[nhp_strategies].[ip_evidence_based_interventions_vasuclar_varicose_veins]\n",
    "where fraction >= RAND(CHECKSUM(NewId()))\n",
    "```\n",
    "\n"
   ]
  },
  {
   "cell_type": "markdown",
   "metadata": {
    "application/vnd.databricks.v1+cell": {
     "cellMetadata": {},
     "inputWidgets": {},
     "nuid": "81a857f8-f2a0-4c53-96cc-2882b96a7b70",
     "showTitle": false,
     "tableResultSettingsMap": {},
     "title": ""
    }
   },
   "source": [
    "### outpatient de-adoption\n",
    "```sql\n",
    "use StrategicWorking\n",
    "\n",
    "--drop table dbo.sw_op_mitigatable_rationing\n",
    "\n",
    "select attendkey, fyear\n",
    "\n",
    "into dbo.sw_op_mitigatable_rationing\n",
    "\n",
    "from [HESData].[nhp_strategies].[op_followup_reduction]\n",
    "where fraction >= RAND(CHECKSUM(NewId()))\n",
    "\n",
    "union\n",
    "\n",
    "\n",
    "select attendkey, fyear\n",
    "from [HESData].[nhp_strategies].[op_consultant_to_consultant_referrals]\n",
    "where fraction >= RAND(CHECKSUM(NewId()))\n",
    "```"
   ]
  },
  {
   "cell_type": "markdown",
   "metadata": {
    "application/vnd.databricks.v1+cell": {
     "cellMetadata": {},
     "inputWidgets": {},
     "nuid": "bb086adf-f27c-4d53-bae7-011c0b4d3755",
     "showTitle": false,
     "tableResultSettingsMap": {},
     "title": ""
    }
   },
   "source": [
    "### emergency department re-direction and substitution\n",
    "```sql\n",
    "use StrategicWorking\n",
    "\n",
    "--drop table dbo.sw_ed_mitigatable_redirect_substitute\n",
    "\n",
    "\n",
    "select aekey, fyear\n",
    "\n",
    "into dbo.sw_ed_mitigatable_redirect_substitute\n",
    "\n",
    "from [HESData].[nhp_strategies].[aae_frequent_attender]\n",
    "where fraction >= RAND(CHECKSUM(NewId()))\n",
    "\n",
    "union\n",
    "\n",
    "\n",
    "select aekey, fyear\n",
    "from [HESData].[nhp_strategies].[aae_left_before_treatment]\n",
    "where fraction >= RAND(CHECKSUM(NewId()))\n",
    "\n",
    "\n",
    "union\n",
    "\n",
    "\n",
    "select aekey, fyear\n",
    "from [HESData].[nhp_strategies].[aae_low_cost_discharged]\n",
    "where fraction >= RAND(CHECKSUM(NewId()))\n",
    "```"
   ]
  },
  {
   "cell_type": "code",
   "execution_count": 0,
   "metadata": {
    "application/vnd.databricks.v1+cell": {
     "cellMetadata": {},
     "collapsed": true,
     "inputWidgets": {},
     "nuid": "374ac390-38fa-47ca-82a0-55a021e7f801",
     "showTitle": false,
     "tableResultSettingsMap": {},
     "title": ""
    }
   },
   "outputs": [],
   "source": [
    "%sql\n",
    "\n",
    "CREATE VIEW su_data.nhp.aae_ungrouped_mitigators AS\n",
    "\n",
    "SELECT\n",
    "  aae.aekey,\n",
    "  concat('frequent_attenders_', aae.type) strategy\n",
    "FROM\n",
    "  su_data.nhp.aae_ungrouped aae\n",
    "WHERE\n",
    "  aae.is_frequent_attender = 1\n",
    "\n",
    "UNION ALL\n",
    "\n",
    "SELECT\n",
    "  aae.aekey,\n",
    "  concat('left_before_seen_', aae.type) strategy\n",
    "FROM\n",
    "  su_data.nhp.aae_ungrouped aae\n",
    "WHERE\n",
    "  aae.is_left_before_treatment = 1\n",
    "\n",
    "UNION ALL\n",
    "\n",
    "SELECT\n",
    "  aae.aekey,\n",
    "  concat('low_cost_discharged_', aae.type) strategy\n",
    "FROM\n",
    "  su_data.nhp.aae_ungrouped aae\n",
    "WHERE\n",
    "  aae.is_low_cost_referred_or_discharged = 1\n",
    "\n",
    "UNION ALL\n",
    "\n",
    "SELECT\n",
    "  aae.aekey,\n",
    "  concat('discharged_no_treatment_', aae.type) strategy\n",
    "FROM\n",
    "  su_data.nhp.aae_ungrouped aae\n",
    "WHERE\n",
    "  aae.is_discharged_no_treatment = 1"
   ]
  }
 ],
 "metadata": {
  "application/vnd.databricks.v1+notebook": {
   "computePreferences": null,
   "dashboards": [],
   "environmentMetadata": {
    "base_environment": "",
    "environment_version": "2"
   },
   "inputWidgetPreferences": null,
   "language": "python",
   "notebookMetadata": {
    "mostRecentlyExecutedCommandWithImplicitDF": {
     "commandId": 6089683993494345,
     "dataframes": [
      "_sqldf"
     ]
    },
    "pythonIndentUnit": 4
   },
   "notebookName": "2025-03-12 activity mitigation extracts",
   "widgets": {}
  },
  "language_info": {
   "name": "python"
  }
 },
 "nbformat": 4,
 "nbformat_minor": 0
}
